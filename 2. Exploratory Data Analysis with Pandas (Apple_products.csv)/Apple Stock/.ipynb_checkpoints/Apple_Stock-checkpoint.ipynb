{
 "cells": [
  {
   "cell_type": "code",
   "execution_count": 8,
   "id": "b194ffdf",
   "metadata": {},
   "outputs": [],
   "source": [
    "import psycopg2\n",
    "import csv\n",
    "import requests\n",
    "\n",
    "# connect to the prosgreSQL database\n",
    "\n",
    "conn = psycopg2.connect(\n",
    "    host = \"localhost\",\n",
    "    database = \"Apple_Stock\",\n",
    "    user = \"postgres\",\n",
    "    password = \"P@55w076\"\n",
    ")\n",
    "\n",
    "\n",
    "# Open a cursor to perform database operations\n",
    "cur = conn.cursor()\n",
    "\n",
    "# Create the table\n",
    "cur.execute(\"\"\"\n",
    "    CREATE TABLE IF NOT EXISTS public.apple_stock_1 (\n",
    "    date DATE,\n",
    "    open FLOAT,\n",
    "    high FLOAT,\n",
    "    low FLOAT,\n",
    "    close FLOAT,\n",
    "    volume INT\n",
    "    );\n",
    "\"\"\")\n",
    "\n",
    "\n",
    "# Read data from the csv file and insert it into the table\n",
    "\n",
    "with open('2014_apple_stock_1.csv') as f:\n",
    "        reader = csv.reader(f)\n",
    "        next (reader)  #skip header row\n",
    "\n",
    "        for row in reader:\n",
    "            if len(row) == 6: # check for the correct number of columns\n",
    "\n",
    "                # replace empty values with default values\n",
    "                row = [value if value != '' else '0' for value in row]\n",
    "            cur.execute(\"\"\"\n",
    "                INSERT INTO apple_stock_1 (date, open, high, low, close, volume)\n",
    "                VALUES(%s, %s, %s, %s, %s, %s);\n",
    "            \"\"\", row)\n",
    "    \n",
    "# commit the changes to database\n",
    "\n",
    "conn.commit()\n",
    "\n",
    "# close the cursor and connection\n",
    "\n",
    "cur.close()\n",
    "conn.close()\n"
   ]
  },
  {
   "cell_type": "code",
   "execution_count": 2,
   "id": "ef63890f",
   "metadata": {},
   "outputs": [
    {
     "name": "stdout",
     "output_type": "stream",
     "text": [
      "Collecting psycopg2\n",
      "  Downloading psycopg2-2.9.6-cp311-cp311-win_amd64.whl (1.2 MB)\n",
      "                                              0.0/1.2 MB ? eta -:--:--\n",
      "                                              0.0/1.2 MB ? eta -:--:--\n",
      "     -                                        0.0/1.2 MB 435.7 kB/s eta 0:00:03\n",
      "     -                                        0.0/1.2 MB 435.7 kB/s eta 0:00:03\n",
      "     -                                        0.0/1.2 MB 196.9 kB/s eta 0:00:06\n",
      "     -                                        0.1/1.2 MB 201.8 kB/s eta 0:00:06\n",
      "     -                                        0.1/1.2 MB 201.8 kB/s eta 0:00:06\n",
      "     ---                                      0.1/1.2 MB 291.5 kB/s eta 0:00:04\n",
      "     ---                                      0.1/1.2 MB 312.2 kB/s eta 0:00:04\n",
      "     ----                                     0.1/1.2 MB 300.4 kB/s eta 0:00:04\n",
      "     -----                                    0.2/1.2 MB 364.0 kB/s eta 0:00:03\n",
      "     -----                                    0.2/1.2 MB 364.0 kB/s eta 0:00:03\n",
      "     -----                                    0.2/1.2 MB 327.7 kB/s eta 0:00:04\n",
      "     -------                                  0.2/1.2 MB 372.0 kB/s eta 0:00:03\n",
      "     ---------                                0.3/1.2 MB 426.0 kB/s eta 0:00:03\n",
      "     ---------                                0.3/1.2 MB 431.3 kB/s eta 0:00:03\n",
      "     -----------                              0.3/1.2 MB 466.1 kB/s eta 0:00:02\n",
      "     -------------                            0.4/1.2 MB 505.2 kB/s eta 0:00:02\n",
      "     ---------------                          0.5/1.2 MB 541.6 kB/s eta 0:00:02\n",
      "     --------------------                     0.6/1.2 MB 678.7 kB/s eta 0:00:01\n",
      "     ----------------------                   0.7/1.2 MB 723.4 kB/s eta 0:00:01\n",
      "     --------------------------               0.8/1.2 MB 805.9 kB/s eta 0:00:01\n",
      "     -------------------------------          0.9/1.2 MB 911.4 kB/s eta 0:00:01\n",
      "     -----------------------------------      1.0/1.2 MB 987.8 kB/s eta 0:00:01\n",
      "     ---------------------------------------  1.2/1.2 MB 1.1 MB/s eta 0:00:01\n",
      "     ---------------------------------------  1.2/1.2 MB 1.1 MB/s eta 0:00:01\n",
      "     ---------------------------------------- 1.2/1.2 MB 982.4 kB/s eta 0:00:00\n",
      "Installing collected packages: psycopg2\n",
      "Successfully installed psycopg2-2.9.6\n",
      "Note: you may need to restart the kernel to use updated packages.\n"
     ]
    }
   ],
   "source": [
    "pip install psycopg2"
   ]
  },
  {
   "cell_type": "code",
   "execution_count": 2,
   "id": "f45a5318",
   "metadata": {},
   "outputs": [
    {
     "name": "stdout",
     "output_type": "stream",
     "text": [
      "Requirement already satisfied: requests in c:\\users\\user\\appdata\\local\\packages\\pythonsoftwarefoundation.python.3.11_qbz5n2kfra8p0\\localcache\\local-packages\\python311\\site-packages (2.30.0)\n",
      "Requirement already satisfied: charset-normalizer<4,>=2 in c:\\users\\user\\appdata\\local\\packages\\pythonsoftwarefoundation.python.3.11_qbz5n2kfra8p0\\localcache\\local-packages\\python311\\site-packages (from requests) (3.1.0)\n",
      "Requirement already satisfied: idna<4,>=2.5 in c:\\users\\user\\appdata\\local\\packages\\pythonsoftwarefoundation.python.3.11_qbz5n2kfra8p0\\localcache\\local-packages\\python311\\site-packages (from requests) (3.4)\n",
      "Requirement already satisfied: urllib3<3,>=1.21.1 in c:\\users\\user\\appdata\\local\\packages\\pythonsoftwarefoundation.python.3.11_qbz5n2kfra8p0\\localcache\\local-packages\\python311\\site-packages (from requests) (2.0.2)\n",
      "Requirement already satisfied: certifi>=2017.4.17 in c:\\users\\user\\appdata\\local\\packages\\pythonsoftwarefoundation.python.3.11_qbz5n2kfra8p0\\localcache\\local-packages\\python311\\site-packages (from requests) (2022.12.7)\n",
      "Note: you may need to restart the kernel to use updated packages.\n"
     ]
    }
   ],
   "source": [
    "pip install requests"
   ]
  },
  {
   "cell_type": "code",
   "execution_count": null,
   "id": "c3c3d2d7",
   "metadata": {},
   "outputs": [],
   "source": []
  }
 ],
 "metadata": {
  "kernelspec": {
   "display_name": "Python 3 (ipykernel)",
   "language": "python",
   "name": "python3"
  },
  "language_info": {
   "codemirror_mode": {
    "name": "ipython",
    "version": 3
   },
   "file_extension": ".py",
   "mimetype": "text/x-python",
   "name": "python",
   "nbconvert_exporter": "python",
   "pygments_lexer": "ipython3",
   "version": "3.11.3"
  }
 },
 "nbformat": 4,
 "nbformat_minor": 5
}
