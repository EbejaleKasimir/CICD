{
 "cells": [
  {
   "cell_type": "code",
   "execution_count": 23,
   "id": "4fedd5da",
   "metadata": {},
   "outputs": [],
   "source": [
    "import requests\n",
    "\n",
    "url = \"https://jsearch.p.rapidapi.com/search\"\n",
    "\n",
    "querystring = {\"query\":\"Data Engineer in Ontario, Canada\",\"page\":\"1\",\"num_pages\":\"1\",\"date_posted\":\"month\"}\n",
    "\n",
    "headers = {\n",
    "\t\"X-RapidAPI-Key\": \"1161789acfmsh46016aeb8c35381p164fc3jsne1705b8eaa2d\",\n",
    "\t\"X-RapidAPI-Host\": \"jsearch.p.rapidapi.com\"\n",
    "}\n",
    "\n",
    "response = requests.get(url, headers=headers, params=querystring)\n",
    "\n",
    "#response.json()"
   ]
  },
  {
   "cell_type": "code",
   "execution_count": 25,
   "id": "301462bb",
   "metadata": {},
   "outputs": [],
   "source": [
    "data = response.json()"
   ]
  },
  {
   "cell_type": "code",
   "execution_count": 3,
   "id": "b63b8040",
   "metadata": {},
   "outputs": [],
   "source": []
  },
  {
   "cell_type": "code",
   "execution_count": 26,
   "id": "9aaa64a3",
   "metadata": {},
   "outputs": [],
   "source": [
    "employer_website = [] #data['data'][0]['employer_website']\n",
    "job_id = []#data['data'][0]['job_id']\n",
    "job_employment_type = [] #data['data'][0]['job_employment_type']\n",
    "job_title = [] #data['data'][0]['job_title']\n",
    "job_apply_link=[] #data['data'][0]['job_apply_link']\n",
    "job_description=[] #data['data'][0]['job_description']\n",
    "job_city=[] #data['data'][0]['job_city']\n",
    "job_country =[] #data['data'][0]['job_country']\n",
    "job_posted_at_date =[] #data['data'][0]['job_posted_at_datetime_utc'][:10]\n",
    "employer_company_type =[] #data['data'][0]['employer_company_type']\n",
    "\n",
    "for i in range(len(data['data'])):\n",
    "    employer_website.append(data['data'][i]['employer_website'])\n",
    "    job_id.append(data['data'][i]['job_id'])\n",
    "    job_employment_type.append(data['data'][i]['job_employment_type'])\n",
    "    job_title.append(data['data'][i]['job_title'])\n",
    "    job_apply_link.append(data['data'][i]['job_apply_link'])\n",
    "    job_description.append(data['data'][i]['job_description'])\n",
    "    job_city.append(data['data'][i]['job_city'])\n",
    "    job_country.append(data['data'][i]['job_country'])\n",
    "    job_posted_at_date.append(data['data'][i]['job_posted_at_datetime_utc'][:10])\n",
    "    employer_company_type.append(data['data'][i]['employer_company_type'])"
   ]
  },
  {
   "cell_type": "code",
   "execution_count": 31,
   "id": "751463a8",
   "metadata": {},
   "outputs": [],
   "source": [
    "rapid_dict = {\n",
    "                'employer_website':employer_website,\n",
    "                'job_employment_type':job_employment_type,\n",
    "                'job_title':job_title,\n",
    "                'job_apply_link':job_apply_link,\n",
    "                'job_description':job_description,\n",
    "                'job_city':job_city,\n",
    "                'job_country':job_country,\n",
    "                'job_posted_at_date':job_posted_at_date,\n",
    "                'employer_company_type':employer_company_type        \n",
    "            \n",
    "             }"
   ]
  },
  {
   "cell_type": "code",
   "execution_count": 103,
   "id": "5eede29e",
   "metadata": {},
   "outputs": [],
   "source": [
    "#rapid_dict"
   ]
  },
  {
   "cell_type": "code",
   "execution_count": 32,
   "id": "5b2bcb24",
   "metadata": {},
   "outputs": [],
   "source": [
    "import pandas as pd"
   ]
  },
  {
   "cell_type": "code",
   "execution_count": 33,
   "id": "88fcb8e8",
   "metadata": {},
   "outputs": [],
   "source": [
    "job_df = pd.DataFrame(rapid_dict)"
   ]
  },
  {
   "cell_type": "code",
   "execution_count": 34,
   "id": "6f8c937d",
   "metadata": {},
   "outputs": [
    {
     "data": {
      "text/html": [
       "<div>\n",
       "<style scoped>\n",
       "    .dataframe tbody tr th:only-of-type {\n",
       "        vertical-align: middle;\n",
       "    }\n",
       "\n",
       "    .dataframe tbody tr th {\n",
       "        vertical-align: top;\n",
       "    }\n",
       "\n",
       "    .dataframe thead th {\n",
       "        text-align: right;\n",
       "    }\n",
       "</style>\n",
       "<table border=\"1\" class=\"dataframe\">\n",
       "  <thead>\n",
       "    <tr style=\"text-align: right;\">\n",
       "      <th></th>\n",
       "      <th>employer_website</th>\n",
       "      <th>job_employment_type</th>\n",
       "      <th>job_title</th>\n",
       "      <th>job_apply_link</th>\n",
       "      <th>job_description</th>\n",
       "      <th>job_city</th>\n",
       "      <th>job_country</th>\n",
       "      <th>job_posted_at_date</th>\n",
       "      <th>employer_company_type</th>\n",
       "    </tr>\n",
       "  </thead>\n",
       "  <tbody>\n",
       "    <tr>\n",
       "      <th>0</th>\n",
       "      <td>None</td>\n",
       "      <td>FULLTIME</td>\n",
       "      <td>Data Engineer</td>\n",
       "      <td>https://ca.linkedin.com/jobs/view/data-enginee...</td>\n",
       "      <td>As an AWS Data Engineer, you know the importan...</td>\n",
       "      <td>None</td>\n",
       "      <td>CA</td>\n",
       "      <td>2023-07-12</td>\n",
       "      <td>None</td>\n",
       "    </tr>\n",
       "    <tr>\n",
       "      <th>1</th>\n",
       "      <td>None</td>\n",
       "      <td>CONTRACTOR</td>\n",
       "      <td>Intermediate Data Engineer</td>\n",
       "      <td>https://www.modis.com/en-ca/job-seekers/job/to...</td>\n",
       "      <td>Intermediate Data Engineer\\n\\nContract Duratio...</td>\n",
       "      <td>Toronto</td>\n",
       "      <td>CA</td>\n",
       "      <td>2023-07-12</td>\n",
       "      <td>None</td>\n",
       "    </tr>\n",
       "    <tr>\n",
       "      <th>2</th>\n",
       "      <td>http://www.insightglobal.com</td>\n",
       "      <td>CONTRACTOR</td>\n",
       "      <td>Data Engineer</td>\n",
       "      <td>https://ca.linkedin.com/jobs/view/data-enginee...</td>\n",
       "      <td>Desired Skills and Experience *\\n\\nWhat You'll...</td>\n",
       "      <td>Toronto</td>\n",
       "      <td>CA</td>\n",
       "      <td>2023-07-12</td>\n",
       "      <td>Staffing</td>\n",
       "    </tr>\n",
       "    <tr>\n",
       "      <th>3</th>\n",
       "      <td>http://www.cardinal.com</td>\n",
       "      <td>FULLTIME</td>\n",
       "      <td>Sr. Data Engineer</td>\n",
       "      <td>https://www.prodivnet.com/job/sr-data-engineer...</td>\n",
       "      <td>What Data Engineering contributes to Cardinal ...</td>\n",
       "      <td>Vaughan</td>\n",
       "      <td>CA</td>\n",
       "      <td>2023-07-12</td>\n",
       "      <td>Wholesale</td>\n",
       "    </tr>\n",
       "    <tr>\n",
       "      <th>4</th>\n",
       "      <td>http://www.capgemini.com</td>\n",
       "      <td>FULLTIME</td>\n",
       "      <td>Data engineer</td>\n",
       "      <td>https://www.jobillico.com/en/job-offer/capgemi...</td>\n",
       "      <td>Job Description\\n\\nJob Title: Data Engineer\\nJ...</td>\n",
       "      <td>Mississauga</td>\n",
       "      <td>CA</td>\n",
       "      <td>2023-07-12</td>\n",
       "      <td>Consulting</td>\n",
       "    </tr>\n",
       "    <tr>\n",
       "      <th>5</th>\n",
       "      <td>http://www.360insights.com</td>\n",
       "      <td>FULLTIME</td>\n",
       "      <td>Data Engineer</td>\n",
       "      <td>https://ca.linkedin.com/jobs/view/data-enginee...</td>\n",
       "      <td>Experiences that create growth. Growth that cr...</td>\n",
       "      <td>Whitby</td>\n",
       "      <td>CA</td>\n",
       "      <td>2023-07-11</td>\n",
       "      <td>None</td>\n",
       "    </tr>\n",
       "    <tr>\n",
       "      <th>6</th>\n",
       "      <td>None</td>\n",
       "      <td>FULLTIME</td>\n",
       "      <td>Data Engineer (Student Position)</td>\n",
       "      <td>https://careers-canadalife.icims.com/jobs/2596...</td>\n",
       "      <td>Job Description\\n\\nOur data aspiration is to u...</td>\n",
       "      <td>London</td>\n",
       "      <td>CA</td>\n",
       "      <td>2023-07-12</td>\n",
       "      <td>None</td>\n",
       "    </tr>\n",
       "    <tr>\n",
       "      <th>7</th>\n",
       "      <td>None</td>\n",
       "      <td>CONTRACTOR</td>\n",
       "      <td>Data Engineer Intermediate(Bell Media MDM 2023...</td>\n",
       "      <td>https://ca.linkedin.com/jobs/view/data-enginee...</td>\n",
       "      <td>Responsibilities\\n• Responsible for designing ...</td>\n",
       "      <td>Toronto</td>\n",
       "      <td>CA</td>\n",
       "      <td>2023-07-12</td>\n",
       "      <td>None</td>\n",
       "    </tr>\n",
       "    <tr>\n",
       "      <th>8</th>\n",
       "      <td>http://www.spotify.com</td>\n",
       "      <td>FULLTIME</td>\n",
       "      <td>Data Engineer - Financial Engineering</td>\n",
       "      <td>https://ca.linkedin.com/jobs/view/data-enginee...</td>\n",
       "      <td>We are looking for a Data Engineer to join our...</td>\n",
       "      <td>Toronto</td>\n",
       "      <td>CA</td>\n",
       "      <td>2023-07-10</td>\n",
       "      <td>None</td>\n",
       "    </tr>\n",
       "    <tr>\n",
       "      <th>9</th>\n",
       "      <td>http://www.capgemini.com</td>\n",
       "      <td>FULLTIME</td>\n",
       "      <td>Data engineer</td>\n",
       "      <td>https://www.jobillico.com/en/job-offer/capgemi...</td>\n",
       "      <td>Job Title: Data Engineer\\nJob location: Toront...</td>\n",
       "      <td>Toronto</td>\n",
       "      <td>CA</td>\n",
       "      <td>2023-07-08</td>\n",
       "      <td>Consulting</td>\n",
       "    </tr>\n",
       "  </tbody>\n",
       "</table>\n",
       "</div>"
      ],
      "text/plain": [
       "               employer_website job_employment_type  \\\n",
       "0                          None            FULLTIME   \n",
       "1                          None          CONTRACTOR   \n",
       "2  http://www.insightglobal.com          CONTRACTOR   \n",
       "3       http://www.cardinal.com            FULLTIME   \n",
       "4      http://www.capgemini.com            FULLTIME   \n",
       "5    http://www.360insights.com            FULLTIME   \n",
       "6                          None            FULLTIME   \n",
       "7                          None          CONTRACTOR   \n",
       "8        http://www.spotify.com            FULLTIME   \n",
       "9      http://www.capgemini.com            FULLTIME   \n",
       "\n",
       "                                           job_title  \\\n",
       "0                                      Data Engineer   \n",
       "1                         Intermediate Data Engineer   \n",
       "2                                      Data Engineer   \n",
       "3                                  Sr. Data Engineer   \n",
       "4                                      Data engineer   \n",
       "5                                      Data Engineer   \n",
       "6                   Data Engineer (Student Position)   \n",
       "7  Data Engineer Intermediate(Bell Media MDM 2023...   \n",
       "8              Data Engineer - Financial Engineering   \n",
       "9                                      Data engineer   \n",
       "\n",
       "                                      job_apply_link  \\\n",
       "0  https://ca.linkedin.com/jobs/view/data-enginee...   \n",
       "1  https://www.modis.com/en-ca/job-seekers/job/to...   \n",
       "2  https://ca.linkedin.com/jobs/view/data-enginee...   \n",
       "3  https://www.prodivnet.com/job/sr-data-engineer...   \n",
       "4  https://www.jobillico.com/en/job-offer/capgemi...   \n",
       "5  https://ca.linkedin.com/jobs/view/data-enginee...   \n",
       "6  https://careers-canadalife.icims.com/jobs/2596...   \n",
       "7  https://ca.linkedin.com/jobs/view/data-enginee...   \n",
       "8  https://ca.linkedin.com/jobs/view/data-enginee...   \n",
       "9  https://www.jobillico.com/en/job-offer/capgemi...   \n",
       "\n",
       "                                     job_description     job_city job_country  \\\n",
       "0  As an AWS Data Engineer, you know the importan...         None          CA   \n",
       "1  Intermediate Data Engineer\\n\\nContract Duratio...      Toronto          CA   \n",
       "2  Desired Skills and Experience *\\n\\nWhat You'll...      Toronto          CA   \n",
       "3  What Data Engineering contributes to Cardinal ...      Vaughan          CA   \n",
       "4  Job Description\\n\\nJob Title: Data Engineer\\nJ...  Mississauga          CA   \n",
       "5  Experiences that create growth. Growth that cr...       Whitby          CA   \n",
       "6  Job Description\\n\\nOur data aspiration is to u...       London          CA   \n",
       "7  Responsibilities\\n• Responsible for designing ...      Toronto          CA   \n",
       "8  We are looking for a Data Engineer to join our...      Toronto          CA   \n",
       "9  Job Title: Data Engineer\\nJob location: Toront...      Toronto          CA   \n",
       "\n",
       "  job_posted_at_date employer_company_type  \n",
       "0         2023-07-12                  None  \n",
       "1         2023-07-12                  None  \n",
       "2         2023-07-12              Staffing  \n",
       "3         2023-07-12             Wholesale  \n",
       "4         2023-07-12            Consulting  \n",
       "5         2023-07-11                  None  \n",
       "6         2023-07-12                  None  \n",
       "7         2023-07-12                  None  \n",
       "8         2023-07-10                  None  \n",
       "9         2023-07-08            Consulting  "
      ]
     },
     "execution_count": 34,
     "metadata": {},
     "output_type": "execute_result"
    }
   ],
   "source": [
    "job_df"
   ]
  },
  {
   "cell_type": "code",
   "execution_count": null,
   "id": "6cecb920",
   "metadata": {},
   "outputs": [],
   "source": []
  },
  {
   "cell_type": "code",
   "execution_count": null,
   "id": "de4a4784",
   "metadata": {},
   "outputs": [],
   "source": []
  },
  {
   "cell_type": "code",
   "execution_count": 84,
   "id": "e2352e7b",
   "metadata": {},
   "outputs": [
    {
     "data": {
      "text/plain": [
       "['http://www.cgi.com',\n",
       " 'http://www.capgemini.com',\n",
       " None,\n",
       " 'http://www.spinmaster.com',\n",
       " 'http://www.sobeys.com',\n",
       " 'http://www.scotiabank.com',\n",
       " 'http://www.insightglobal.com',\n",
       " 'http://www.hamiltonhealthsciences.ca',\n",
       " 'http://www.rbc.com',\n",
       " 'http://www.sunlife.com']"
      ]
     },
     "execution_count": 84,
     "metadata": {},
     "output_type": "execute_result"
    }
   ],
   "source": [
    "employer_website"
   ]
  },
  {
   "cell_type": "code",
   "execution_count": 109,
   "id": "c1311c4b",
   "metadata": {},
   "outputs": [],
   "source": [
    "#data"
   ]
  },
  {
   "cell_type": "markdown",
   "id": "76dad7da",
   "metadata": {},
   "source": [
    "Employer_website,\n",
    "job_id,\n",
    "job_employment_type,\n",
    "job_title,\n",
    "job_apply_link,\n",
    "job_description,\n",
    "job_city,\n",
    "job_country,\n",
    "job_posted_at_date,\n",
    "employer_company_type."
   ]
  },
  {
   "cell_type": "code",
   "execution_count": 108,
   "id": "c35ff09d",
   "metadata": {},
   "outputs": [],
   "source": [
    "\n",
    "#data['data']"
   ]
  },
  {
   "cell_type": "code",
   "execution_count": 22,
   "id": "e2123a4c",
   "metadata": {},
   "outputs": [
    {
     "data": {
      "text/plain": [
       "{'employer_name': 'CGI',\n",
       " 'employer_logo': 'https://upload.wikimedia.org/wikipedia/commons/thumb/3/32/CGI_logo.svg/1280px-CGI_logo.svg.png',\n",
       " 'employer_website': 'http://www.cgi.com',\n",
       " 'employer_company_type': 'Computer Services',\n",
       " 'job_publisher': 'ZipRecruiter',\n",
       " 'job_id': 'A-IAoon8XeQAAAAAAAAAAA==',\n",
       " 'job_employment_type': 'FULLTIME',\n",
       " 'job_title': 'Data Engineer',\n",
       " 'job_apply_link': 'https://www.ziprecruiter.com/c/CGI/Job/Data-Engineer/-in-Toronto,ON?jid=12cf1354c3724f91',\n",
       " 'job_apply_is_direct': False,\n",
       " 'job_apply_quality_score': 0.7188,\n",
       " 'job_description': 'Share this Share article on LinkedIn LinkedInShare article on Twitter TwitterShare article on Facebook FacebookShare article on Email Email\\nmore\\n\\nFind similar career opportunities\\n\\nData Engineer Category: Software Development/ Engineering\\nMain location: Canada, Ontario, Toronto\\nPosition ID: J0623-0626\\nEmployment Type: Full Time\\n\\nMeet our professionals\\n\\nCGI Canada - Ready For This\\n\\nPosition Description:\\n\\nWe are Canada\\'s largest independent information technology services firm, and after 45 years, we\\'re still growing! Join us as a \\'Data Engineer\\' in our Banking Services Division in Toronto\\n\\nYour future duties and responsibilities:\\n\\nBuild end to end data ingestion pipelines to ingest data from external and internal sources i.e., developing data processing frameworks.\\nDevelop custom scripts and workflows using Python, SQL, and C# to automate data processing tasks.\\nStrong grasp of data modeling concepts to design and develop efficient data storage and retrieval systems.\\nMinimum 4+ years of experience as a Data Engineering with a Master\\'s degree; or 5+ years with a Bachelor\\'s degree along with the relevant working experience.\\n2-3+ years Financial Industry experience.\\nExperience working as a Data Engineer in a production environment.\\nExperience working with a modern scalable Data Lake or Data warehouses in Snowflake.\\n5+ years of proficient experience working with programming languages such as Python, PySpark, SQL, Scala, Shell scripting etc.\\nExperience understanding of the Spark Architecture is preferred.\\nPreferred one or more Database experience (MySQL, Microsoft SQL Server, MongoDB, PostgreSQL)\\nExperience working with containers and orchestration tools like (Docker, Kubernetes, Apache Airflow, CI/CD, etc.)\\nExperience in promoting data ingestion pipelines by using CI/CD e.g., Jenkins.\\nExcellent written and verbal communication, presentation skills.\\nExperience working with one or more cloud platforms (Azure, AWS or GCP )\\npreferred: Azure\\nExperience working with distributed notebook environments like Databricks, Azure Synapse, etc.\\nExperience working with Git, Azure DevOps.\\nUnderstanding of Machine learning algorithms i.e., Anomaly detection\\nAbility to work in Agile methodology.\\nTransforming and manipulating raw complex data into structured and consumable format data\\nMachine Learning and Quantitative Modeling\\nBuild anomaly detection model leveraging packages like Prophet or similar\\nBuild anomaly detection models for geospatial and other practices based on domain requirements.\\n\\nRequired qualifications to be successful in this role:\\n\\nSelf-starter and delivery oriented experienced Machine Learning engineer\\nExperience working with alternative data\\nExperience with Cloud, Distributed computing and Data Science\\nExcellent communication and presentation skills. Proven ability to connect with internal and external stakeholders and excel in a fast-paced environment.\\nImpact\\nRevenue generation thru New Business for Alternative Data\\nInnovation\\n6 years of AI, Big Data and cloud expertise\\n3-4 years of Alternative data experience\\n\\nRisk\\nMitigate reputation risk thru AI driven Data Quality to ensure highest quality data and services are offered to clients\\n\\nSkills:\\n• Big Data\\n• Big Data & Analytics Operation\\n• DevOps\\n• Financial Services\\n• NoSQL\\n• Real-Time Appliance\\n\\nWhat you can expect from us:\\n\\nInsights you can act on\\n\\nWhile technology is at the heart of our clients\\' digital transformation, we understand that people are at the heart of business success.\\n\\nWhen you join CGI, you become a trusted advisor, collaborating with colleagues and clients to bring forward actionable insights that deliver meaningful and sustainable outcomes. We call our employees \"members\" because they are CGI shareholders and owners and owners who enjoy working and growing together to build a company we are proud of. This has been our Dream since 1976, and it has brought us to where we are today - one of the world\\'s largest independent providers of IT and business consulting services.\\n\\nAt CGI, we recognize the richness that diversity brings. We strive to create a work culture where all belong and collaborate with clients in building more inclusive communities. As an equal-opportunity employer, we want to empower all our members to succeed and grow. If you require an accommodation at any point during the recruitment process, please let us know. We will be happy to assist.\\n\\nReady to become part of our success story? Join CGI - where your ideas and actions make a difference.\\n\\nHave you been referred by a CGI Member for this position?* Yes No\\nCGI member\\'s email (@cgi.com)*\\n\\nFirst Name\\n\\nLast Name\\n\\nI agree to allow CGI to contact the CGI member who referred me to obtain additional information about my application and to confirm my referral. *\\n• This field is required.\\n\\nShare this Share article on LinkedIn LinkedInShare article on Twitter TwitterShare article on Facebook FacebookShare article on Email Email\\nmore',\n",
       " 'job_is_remote': False,\n",
       " 'job_posted_at_timestamp': 1688720100,\n",
       " 'job_posted_at_datetime_utc': '2023-07-07T08:55:00.000Z',\n",
       " 'job_city': 'Toronto',\n",
       " 'job_state': 'ON',\n",
       " 'job_country': 'CA',\n",
       " 'job_latitude': 43.653225,\n",
       " 'job_longitude': -79.38319,\n",
       " 'job_benefits': None,\n",
       " 'job_google_link': 'https://www.google.com/search?gl=us&hl=en&rciv=jb&q=data+engineer+in+ontario,+canada&start=0&chips=date_posted:month&schips=date_posted;month&ibp=htl;jobs#fpstate=tldetail&htivrt=jobs&htiq=data+engineer+in+ontario,+canada&htidocid=A-IAoon8XeQAAAAAAAAAAA%3D%3D',\n",
       " 'job_offer_expiration_datetime_utc': '2023-08-07T00:00:00.000Z',\n",
       " 'job_offer_expiration_timestamp': 1691366400,\n",
       " 'job_required_experience': {'no_experience_required': False,\n",
       "  'required_experience_in_months': 60,\n",
       "  'experience_mentioned': True,\n",
       "  'experience_preferred': True},\n",
       " 'job_required_skills': None,\n",
       " 'job_required_education': {'postgraduate_degree': False,\n",
       "  'professional_certification': False,\n",
       "  'high_school': False,\n",
       "  'associates_degree': False,\n",
       "  'bachelors_degree': False,\n",
       "  'degree_mentioned': True,\n",
       "  'degree_preferred': False,\n",
       "  'professional_certification_mentioned': False},\n",
       " 'job_experience_in_place_of_education': False,\n",
       " 'job_min_salary': None,\n",
       " 'job_max_salary': None,\n",
       " 'job_salary_currency': None,\n",
       " 'job_salary_period': None,\n",
       " 'job_highlights': {},\n",
       " 'job_job_title': 'Data engineer',\n",
       " 'job_posting_language': 'en',\n",
       " 'job_onet_soc': '15113200',\n",
       " 'job_onet_job_zone': '4',\n",
       " 'job_occupational_categories': ['15-2041.00: Statisticians'],\n",
       " 'job_naics_code': '541512',\n",
       " 'job_naics_name': 'Computer Systems Design Services'}"
      ]
     },
     "execution_count": 22,
     "metadata": {},
     "output_type": "execute_result"
    }
   ],
   "source": [
    "data['data'][0]"
   ]
  },
  {
   "cell_type": "code",
   "execution_count": 23,
   "id": "e6a91b34",
   "metadata": {},
   "outputs": [
    {
     "data": {
      "text/plain": [
       "'http://www.cgi.com'"
      ]
     },
     "execution_count": 23,
     "metadata": {},
     "output_type": "execute_result"
    }
   ],
   "source": [
    "#Employer_website\n",
    "data['data'][0]['employer_website']"
   ]
  },
  {
   "cell_type": "code",
   "execution_count": 24,
   "id": "8ef71bf5",
   "metadata": {},
   "outputs": [
    {
     "data": {
      "text/plain": [
       "'A-IAoon8XeQAAAAAAAAAAA=='"
      ]
     },
     "execution_count": 24,
     "metadata": {},
     "output_type": "execute_result"
    }
   ],
   "source": [
    "#job_id\n",
    "data['data'][0]['job_id']\n"
   ]
  },
  {
   "cell_type": "code",
   "execution_count": 25,
   "id": "cf8ce814",
   "metadata": {},
   "outputs": [
    {
     "data": {
      "text/plain": [
       "'FULLTIME'"
      ]
     },
     "execution_count": 25,
     "metadata": {},
     "output_type": "execute_result"
    }
   ],
   "source": [
    "#job_employment_type\n",
    "data['data'][0]['job_employment_type']"
   ]
  },
  {
   "cell_type": "code",
   "execution_count": 26,
   "id": "d6fa6540",
   "metadata": {},
   "outputs": [
    {
     "data": {
      "text/plain": [
       "'Data Engineer'"
      ]
     },
     "execution_count": 26,
     "metadata": {},
     "output_type": "execute_result"
    }
   ],
   "source": [
    "#job_title\n",
    "data['data'][0]['job_title']"
   ]
  },
  {
   "cell_type": "code",
   "execution_count": 27,
   "id": "84cb39bd",
   "metadata": {},
   "outputs": [
    {
     "data": {
      "text/plain": [
       "'https://www.ziprecruiter.com/c/CGI/Job/Data-Engineer/-in-Toronto,ON?jid=12cf1354c3724f91'"
      ]
     },
     "execution_count": 27,
     "metadata": {},
     "output_type": "execute_result"
    }
   ],
   "source": [
    "#job_apply_link\n",
    "data['data'][0]['job_apply_link']"
   ]
  },
  {
   "cell_type": "code",
   "execution_count": 107,
   "id": "bca006e8",
   "metadata": {},
   "outputs": [],
   "source": [
    "#job_description\n",
    "#data['data'][0]['job_description']"
   ]
  },
  {
   "cell_type": "code",
   "execution_count": 38,
   "id": "6fe35809",
   "metadata": {},
   "outputs": [
    {
     "data": {
      "text/plain": [
       "'Toronto'"
      ]
     },
     "execution_count": 38,
     "metadata": {},
     "output_type": "execute_result"
    }
   ],
   "source": [
    "#job_city\n",
    "data['data'][0]['job_city']"
   ]
  },
  {
   "cell_type": "code",
   "execution_count": 36,
   "id": "52d344af",
   "metadata": {},
   "outputs": [
    {
     "data": {
      "text/plain": [
       "'CA'"
      ]
     },
     "execution_count": 36,
     "metadata": {},
     "output_type": "execute_result"
    }
   ],
   "source": [
    "#job_country\n",
    "data['data'][0]['job_country']"
   ]
  },
  {
   "cell_type": "code",
   "execution_count": 39,
   "id": "c084ed69",
   "metadata": {},
   "outputs": [
    {
     "data": {
      "text/plain": [
       "'2023-07-07'"
      ]
     },
     "execution_count": 39,
     "metadata": {},
     "output_type": "execute_result"
    }
   ],
   "source": [
    "#job_posted_at_date\n",
    "data['data'][0]['job_posted_at_datetime_utc'][:10]"
   ]
  },
  {
   "cell_type": "code",
   "execution_count": 34,
   "id": "66372e25",
   "metadata": {},
   "outputs": [
    {
     "data": {
      "text/plain": [
       "'Computer Services'"
      ]
     },
     "execution_count": 34,
     "metadata": {},
     "output_type": "execute_result"
    }
   ],
   "source": [
    "#employer_company_type\n",
    "data['data'][0]['employer_company_type']"
   ]
  },
  {
   "cell_type": "code",
   "execution_count": null,
   "id": "3fc82877",
   "metadata": {},
   "outputs": [],
   "source": [
    "#TRANSFORMATION: 1) country should full_name 2) DATE: datetime, job description"
   ]
  },
  {
   "cell_type": "code",
   "execution_count": 46,
   "id": "c09b4db7",
   "metadata": {},
   "outputs": [],
   "source": [
    "fruits = ['apple', 'orange', 'pear','pawpaw']"
   ]
  },
  {
   "cell_type": "code",
   "execution_count": 47,
   "id": "28c96f28",
   "metadata": {},
   "outputs": [
    {
     "name": "stdout",
     "output_type": "stream",
     "text": [
      "apple\n",
      "orange\n",
      "pear\n",
      "pawpaw\n"
     ]
    }
   ],
   "source": [
    "for i in fruits:\n",
    "    print(i)"
   ]
  },
  {
   "cell_type": "code",
   "execution_count": 49,
   "id": "1579647f",
   "metadata": {},
   "outputs": [],
   "source": [
    "my_class = [{'name':'Ebejale', 'number': 1234}, {'name':'Collins', 'number': 7890}, {'name':'Mariam', 'number': 2222}]"
   ]
  },
  {
   "cell_type": "code",
   "execution_count": 60,
   "id": "8af7bc7f",
   "metadata": {},
   "outputs": [
    {
     "data": {
      "text/plain": [
       "[{'name': 'Ebejale', 'number': 1234},\n",
       " {'name': 'Collins', 'number': 7890},\n",
       " {'name': 'Mariam', 'number': 2222}]"
      ]
     },
     "execution_count": 60,
     "metadata": {},
     "output_type": "execute_result"
    }
   ],
   "source": [
    "my_class"
   ]
  },
  {
   "cell_type": "code",
   "execution_count": 73,
   "id": "ef16fa13",
   "metadata": {},
   "outputs": [
    {
     "data": {
      "text/plain": [
       "'Ebejale'"
      ]
     },
     "execution_count": 73,
     "metadata": {},
     "output_type": "execute_result"
    }
   ],
   "source": [
    "my_class[0]['name']"
   ]
  },
  {
   "cell_type": "code",
   "execution_count": 61,
   "id": "0b2f7840",
   "metadata": {},
   "outputs": [
    {
     "name": "stdout",
     "output_type": "stream",
     "text": [
      "{'name': 'Ebejale', 'number': 1234}\n",
      "{'name': 'Collins', 'number': 7890}\n",
      "{'name': 'Mariam', 'number': 2222}\n"
     ]
    }
   ],
   "source": [
    "for i in my_class:\n",
    "    print(i)"
   ]
  },
  {
   "cell_type": "code",
   "execution_count": 65,
   "id": "4c3d733f",
   "metadata": {},
   "outputs": [
    {
     "name": "stdout",
     "output_type": "stream",
     "text": [
      "Ebejale\n",
      "Collins\n",
      "Mariam\n"
     ]
    }
   ],
   "source": [
    "for item in my_class:\n",
    "    print(item['name']) #my_class[0]['name'], #my_class[1]['name'],my_class[2]['name']"
   ]
  },
  {
   "cell_type": "code",
   "execution_count": 63,
   "id": "a9264e04",
   "metadata": {},
   "outputs": [
    {
     "name": "stdout",
     "output_type": "stream",
     "text": [
      "1234\n",
      "7890\n",
      "2222\n"
     ]
    }
   ],
   "source": [
    "for i in my_class:\n",
    "    print(i['number'])"
   ]
  },
  {
   "cell_type": "code",
   "execution_count": 76,
   "id": "fcc126e2",
   "metadata": {},
   "outputs": [
    {
     "name": "stdout",
     "output_type": "stream",
     "text": [
      "Ebejale\n",
      "Collins\n",
      "Mariam\n"
     ]
    }
   ],
   "source": [
    "for i in range(len(my_class)):\n",
    "    print(my_class[i]['name'])"
   ]
  },
  {
   "cell_type": "code",
   "execution_count": 106,
   "id": "f2eec535",
   "metadata": {},
   "outputs": [
    {
     "name": "stdout",
     "output_type": "stream",
     "text": [
      "{'name': 'Ebejale', 'number': 1234}\n",
      "{'name': 'Collins', 'number': 7890}\n",
      "{'name': 'Mariam', 'number': 2222}\n"
     ]
    }
   ],
   "source": [
    "for i in range(len(my_class)):\n",
    "    print(my_class[i])"
   ]
  },
  {
   "cell_type": "code",
   "execution_count": 104,
   "id": "3f8e36fa",
   "metadata": {},
   "outputs": [],
   "source": [
    "#for i in data['data']:\n",
    "    #print(f'{i} \\n \\n')"
   ]
  },
  {
   "cell_type": "code",
   "execution_count": null,
   "id": "e589d483",
   "metadata": {},
   "outputs": [],
   "source": [
    "for i in range(len(data['data'])):\n",
    "    print(data['data'][i]['job_city'])"
   ]
  },
  {
   "cell_type": "code",
   "execution_count": null,
   "id": "6fc80cc7",
   "metadata": {},
   "outputs": [],
   "source": [
    "for i in range(len(data['data'])):\n",
    "    print(data['data'][i]['job_city'])"
   ]
  },
  {
   "cell_type": "code",
   "execution_count": 24,
   "id": "b8b9f7c2",
   "metadata": {},
   "outputs": [
    {
     "data": {
      "text/plain": [
       "['• you will report to the manager of data engineering.',\n",
       " '• you will have a track record for developing high-quality application by implementing testable and scalable code.',\n",
       " '• you will manage and build elt and etl pipelines between internal data and external data stores for the broader data team.',\n",
       " '• documenting data engineering processes, standards, and best practices.',\n",
       " '• strong experience with aws glue, dms, aws redshift, aws step function, aws s3, athena or similar technologies in azure or google cloud to design and deliver data pipeline solutions.',\n",
       " '• proficiency in github for version control and collaborative software development.',\n",
       " '• proficiency in aws cli for managing aws services and automating tasks.',\n",
       " '• solid programming skills in python and experience with pyspark for data processing and analysis.',\n",
       " '• strong understanding of database systems, data modeling, and sql.']"
      ]
     },
     "execution_count": 24,
     "metadata": {},
     "output_type": "execute_result"
    }
   ],
   "source": [
    "keywords = [\n",
    "    \"Data engineering\",\n",
    "    \"Data science\",\n",
    "    \"Big data\",\n",
    "    \"Cloud computing\",\n",
    "    \"Hadoop\",\n",
    "    \"Hive\",\n",
    "    \"Pig\",\n",
    "    \"MapReduce\",\n",
    "    \"Spark\",\n",
    "    \"ETL\",\n",
    "    \"Data warehousing\",\n",
    "    \"Data modeling\",\n",
    "    \"SQL\",\n",
    "    \"Python\",\n",
    "    \"Java\",\n",
    "    \"Scala\",\n",
    "    \"Git\",\n",
    "    \"Docker\",\n",
    "    \"Kubernetes\",\n",
    "    \"AWS\",\n",
    "    \"Azure\",\n",
    "    \"GCP\",\n",
    "    \"Kafka\",\n",
    "    \"Airflow\",\n",
    "    \"Tableau\",\n",
    "    \"Looker\",\n",
    "    \"PowerBI\",\n",
    "    \"Data visualization\",\n",
    "    \"Machine learning\",\n",
    "    \"Natural language processing\",\n",
    "    \"Artificial intelligence\",\n",
    "    \"Streaming data\",\n",
    "    \"Real-time data\",\n",
    "    \"IoT\",\n",
    "    \"Cybersecurity\",\n",
    "    \"Data governance\",\n",
    "    \"Data ethics\",\n",
    "    \"Data privacy\",\n",
    "]\n",
    "\n",
    "# Lowercase the keywords for a case-insensitive search\n",
    "keywords = [keyword.lower() for keyword in keywords]\n",
    "\n",
    "def extract_skills(c):\n",
    "    skills = []\n",
    "    lines = c.lower().split('\\n')  # Split the text into lines\n",
    "    for line in lines:\n",
    "        for keyword in keywords:\n",
    "            if keyword in line:\n",
    "                skills.append(line.strip())  # Add the line to the skills list\n",
    "                break  # Break the loop as soon as a keyword is found\n",
    "    return skills\n",
    "\n",
    "\n",
    "\n",
    "# Assuming job_df is a DataFrame and 'job_description' is a column in job_df\n",
    "extract_skills(job_df['job_description'][1])\n"
   ]
  },
  {
   "cell_type": "code",
   "execution_count": 19,
   "id": "808a37b6",
   "metadata": {},
   "outputs": [
    {
     "data": {
      "text/plain": [
       "[]"
      ]
     },
     "execution_count": 19,
     "metadata": {},
     "output_type": "execute_result"
    }
   ],
   "source": [
    "\n",
    "extract_skills(job_df['job_description'][0])\n"
   ]
  },
  {
   "cell_type": "code",
   "execution_count": null,
   "id": "9cfe4376",
   "metadata": {},
   "outputs": [],
   "source": []
  },
  {
   "cell_type": "code",
   "execution_count": null,
   "id": "f8c3ca7d",
   "metadata": {},
   "outputs": [],
   "source": []
  },
  {
   "cell_type": "code",
   "execution_count": null,
   "id": "32548b4f",
   "metadata": {},
   "outputs": [],
   "source": []
  }
 ],
 "metadata": {
  "kernelspec": {
   "display_name": "Python 3 (ipykernel)",
   "language": "python",
   "name": "python3"
  },
  "language_info": {
   "codemirror_mode": {
    "name": "ipython",
    "version": 3
   },
   "file_extension": ".py",
   "mimetype": "text/x-python",
   "name": "python",
   "nbconvert_exporter": "python",
   "pygments_lexer": "ipython3",
   "version": "3.11.3"
  }
 },
 "nbformat": 4,
 "nbformat_minor": 5
}
