{
 "cells": [
  {
   "cell_type": "code",
   "execution_count": 12,
   "id": "deed1279",
   "metadata": {},
   "outputs": [],
   "source": [
    "import requests\n",
    "\n",
    "url = \"https://jsearch.p.rapidapi.com/search\"\n",
    "\n",
    "querystring = {\"query\":\"Data Engineer in Ontario, Canada\",\"page\":\"1\",\"num_pages\":\"1\",\"date_posted\":\"month\"}\n",
    "\n",
    "headers = {\n",
    "\t\"X-RapidAPI-Key\": \"1161789acfmsh46016aeb8c35381p164fc3jsne1705b8eaa2d\",\n",
    "\t\"X-RapidAPI-Host\": \"jsearch.p.rapidapi.com\"\n",
    "}\n",
    "\n",
    "response = requests.get(url, headers=headers, params=querystring)\n",
    "\n",
    "#response.json()"
   ]
  },
  {
   "cell_type": "code",
   "execution_count": 13,
   "id": "a8bb35a5",
   "metadata": {},
   "outputs": [],
   "source": [
    "data = response.json()"
   ]
  },
  {
   "cell_type": "code",
   "execution_count": 109,
   "id": "3cda781b",
   "metadata": {},
   "outputs": [],
   "source": [
    "#data"
   ]
  },
  {
   "cell_type": "markdown",
   "id": "539e39f7",
   "metadata": {},
   "source": [
    "Employer_website,\n",
    "job_id,\n",
    "job_employment_type,\n",
    "job_title,\n",
    "job_apply_link,\n",
    "job_description,\n",
    "job_city,\n",
    "job_country,\n",
    "job_posted_at_date,\n",
    "employer_company_type."
   ]
  },
  {
   "cell_type": "code",
   "execution_count": 108,
   "id": "a14ffa61",
   "metadata": {},
   "outputs": [],
   "source": [
    "\n",
    "#data['data']"
   ]
  },
  {
   "cell_type": "code",
   "execution_count": 3,
   "id": "25922a2c",
   "metadata": {},
   "outputs": [],
   "source": [
    "#data['data'][0]"
   ]
  },
  {
   "cell_type": "code",
   "execution_count": 23,
   "id": "5d2da390",
   "metadata": {},
   "outputs": [
    {
     "data": {
      "text/plain": [
       "'http://www.cgi.com'"
      ]
     },
     "execution_count": 23,
     "metadata": {},
     "output_type": "execute_result"
    }
   ],
   "source": [
    "#Employer_website\n",
    "data['data'][0]['employer_website']"
   ]
  },
  {
   "cell_type": "code",
   "execution_count": 24,
   "id": "60eaefc2",
   "metadata": {},
   "outputs": [
    {
     "data": {
      "text/plain": [
       "'A-IAoon8XeQAAAAAAAAAAA=='"
      ]
     },
     "execution_count": 24,
     "metadata": {},
     "output_type": "execute_result"
    }
   ],
   "source": [
    "#job_id\n",
    "data['data'][0]['job_id']\n"
   ]
  },
  {
   "cell_type": "code",
   "execution_count": 25,
   "id": "10b6eddc",
   "metadata": {},
   "outputs": [
    {
     "data": {
      "text/plain": [
       "'FULLTIME'"
      ]
     },
     "execution_count": 25,
     "metadata": {},
     "output_type": "execute_result"
    }
   ],
   "source": [
    "#job_employment_type\n",
    "data['data'][0]['job_employment_type']"
   ]
  },
  {
   "cell_type": "code",
   "execution_count": 26,
   "id": "04710f58",
   "metadata": {},
   "outputs": [
    {
     "data": {
      "text/plain": [
       "'Data Engineer'"
      ]
     },
     "execution_count": 26,
     "metadata": {},
     "output_type": "execute_result"
    }
   ],
   "source": [
    "#job_title\n",
    "data['data'][0]['job_title']"
   ]
  },
  {
   "cell_type": "code",
   "execution_count": 27,
   "id": "15eea09c",
   "metadata": {},
   "outputs": [
    {
     "data": {
      "text/plain": [
       "'https://www.ziprecruiter.com/c/CGI/Job/Data-Engineer/-in-Toronto,ON?jid=12cf1354c3724f91'"
      ]
     },
     "execution_count": 27,
     "metadata": {},
     "output_type": "execute_result"
    }
   ],
   "source": [
    "#job_apply_link\n",
    "data['data'][0]['job_apply_link']"
   ]
  },
  {
   "cell_type": "code",
   "execution_count": 107,
   "id": "3cc8bef6",
   "metadata": {},
   "outputs": [],
   "source": [
    "#job_description\n",
    "#data['data'][0]['job_description']"
   ]
  },
  {
   "cell_type": "code",
   "execution_count": 38,
   "id": "f45883a6",
   "metadata": {},
   "outputs": [
    {
     "data": {
      "text/plain": [
       "'Toronto'"
      ]
     },
     "execution_count": 38,
     "metadata": {},
     "output_type": "execute_result"
    }
   ],
   "source": [
    "#job_city\n",
    "data['data'][0]['job_city']"
   ]
  },
  {
   "cell_type": "code",
   "execution_count": 36,
   "id": "23556ea0",
   "metadata": {},
   "outputs": [
    {
     "data": {
      "text/plain": [
       "'CA'"
      ]
     },
     "execution_count": 36,
     "metadata": {},
     "output_type": "execute_result"
    }
   ],
   "source": [
    "#job_country\n",
    "data['data'][0]['job_country']"
   ]
  },
  {
   "cell_type": "code",
   "execution_count": 39,
   "id": "64c4992c",
   "metadata": {},
   "outputs": [
    {
     "data": {
      "text/plain": [
       "'2023-07-07'"
      ]
     },
     "execution_count": 39,
     "metadata": {},
     "output_type": "execute_result"
    }
   ],
   "source": [
    "#job_posted_at_date\n",
    "data['data'][0]['job_posted_at_datetime_utc'][:10]"
   ]
  },
  {
   "cell_type": "code",
   "execution_count": 34,
   "id": "ffbd8ea0",
   "metadata": {},
   "outputs": [
    {
     "data": {
      "text/plain": [
       "'Computer Services'"
      ]
     },
     "execution_count": 34,
     "metadata": {},
     "output_type": "execute_result"
    }
   ],
   "source": [
    "#employer_company_type\n",
    "data['data'][0]['employer_company_type']"
   ]
  },
  {
   "cell_type": "markdown",
   "id": "c2406d01",
   "metadata": {},
   "source": [
    "<h2>DEMONSTRATION</h2>"
   ]
  },
  {
   "cell_type": "code",
   "execution_count": null,
   "id": "cb394451",
   "metadata": {},
   "outputs": [],
   "source": [
    "#TRANSFORMATION: 1) country should full_name 2) DATE: datetime, job description, company name(from website), 3) key_words(skills)"
   ]
  },
  {
   "cell_type": "code",
   "execution_count": 46,
   "id": "2bad67b1",
   "metadata": {},
   "outputs": [],
   "source": [
    "fruits = ['apple', 'orange', 'pear','pawpaw']"
   ]
  },
  {
   "cell_type": "code",
   "execution_count": 47,
   "id": "4ba47ec1",
   "metadata": {},
   "outputs": [
    {
     "name": "stdout",
     "output_type": "stream",
     "text": [
      "apple\n",
      "orange\n",
      "pear\n",
      "pawpaw\n"
     ]
    }
   ],
   "source": [
    "for i in fruits:\n",
    "    print(i)"
   ]
  },
  {
   "cell_type": "code",
   "execution_count": 49,
   "id": "51fc6b24",
   "metadata": {},
   "outputs": [],
   "source": [
    "my_class = [{'name':'Ebejale', 'number': 1234}, {'name':'Collins', 'number': 7890}, {'name':'Mariam', 'number': 2222}]"
   ]
  },
  {
   "cell_type": "code",
   "execution_count": 52,
   "id": "83c9c3ac",
   "metadata": {},
   "outputs": [
    {
     "data": {
      "text/plain": [
       "[{'name': 'Ebejale', 'number': 1234},\n",
       " {'name': 'Collins', 'number': 7890},\n",
       " {'name': 'Mariam', 'number': 2222}]"
      ]
     },
     "execution_count": 52,
     "metadata": {},
     "output_type": "execute_result"
    }
   ],
   "source": [
    "my_class"
   ]
  },
  {
   "cell_type": "code",
   "execution_count": 111,
   "id": "9a3af625",
   "metadata": {},
   "outputs": [
    {
     "data": {
      "text/plain": [
       "{'name': 'Ebejale', 'number': 1234}"
      ]
     },
     "execution_count": 111,
     "metadata": {},
     "output_type": "execute_result"
    }
   ],
   "source": [
    "my_class[0]"
   ]
  },
  {
   "cell_type": "code",
   "execution_count": 73,
   "id": "e49d9815",
   "metadata": {},
   "outputs": [
    {
     "data": {
      "text/plain": [
       "'Ebejale'"
      ]
     },
     "execution_count": 73,
     "metadata": {},
     "output_type": "execute_result"
    }
   ],
   "source": [
    "my_class[0]['name']"
   ]
  },
  {
   "cell_type": "code",
   "execution_count": 61,
   "id": "81c6d967",
   "metadata": {},
   "outputs": [
    {
     "name": "stdout",
     "output_type": "stream",
     "text": [
      "{'name': 'Ebejale', 'number': 1234}\n",
      "{'name': 'Collins', 'number': 7890}\n",
      "{'name': 'Mariam', 'number': 2222}\n"
     ]
    }
   ],
   "source": [
    "for i in my_class:\n",
    "    print(i)"
   ]
  },
  {
   "cell_type": "code",
   "execution_count": 65,
   "id": "f516bacb",
   "metadata": {},
   "outputs": [
    {
     "name": "stdout",
     "output_type": "stream",
     "text": [
      "Ebejale\n",
      "Collins\n",
      "Mariam\n"
     ]
    }
   ],
   "source": [
    "for item in my_class:\n",
    "    print(item['name']) #my_class[0]['name'], #my_class[1]['name'],my_class[2]['name']"
   ]
  },
  {
   "cell_type": "code",
   "execution_count": 63,
   "id": "4bac7090",
   "metadata": {},
   "outputs": [
    {
     "name": "stdout",
     "output_type": "stream",
     "text": [
      "1234\n",
      "7890\n",
      "2222\n"
     ]
    }
   ],
   "source": [
    "for i in my_class:\n",
    "    print(i['number'])"
   ]
  },
  {
   "cell_type": "code",
   "execution_count": 76,
   "id": "a2b2b029",
   "metadata": {},
   "outputs": [
    {
     "name": "stdout",
     "output_type": "stream",
     "text": [
      "Ebejale\n",
      "Collins\n",
      "Mariam\n"
     ]
    }
   ],
   "source": [
    "for i in range(len(my_class)):\n",
    "    print(my_class[i]['name'])"
   ]
  },
  {
   "cell_type": "code",
   "execution_count": 106,
   "id": "5fdb7d0f",
   "metadata": {},
   "outputs": [
    {
     "name": "stdout",
     "output_type": "stream",
     "text": [
      "{'name': 'Ebejale', 'number': 1234}\n",
      "{'name': 'Collins', 'number': 7890}\n",
      "{'name': 'Mariam', 'number': 2222}\n"
     ]
    }
   ],
   "source": [
    "for i in range(len(my_class)):\n",
    "    print(my_class[i])"
   ]
  },
  {
   "cell_type": "markdown",
   "id": "b0117a66",
   "metadata": {},
   "source": [
    "# Back to Code"
   ]
  },
  {
   "cell_type": "code",
   "execution_count": 8,
   "id": "d4405b0f",
   "metadata": {},
   "outputs": [
    {
     "name": "stdout",
     "output_type": "stream",
     "text": [
      "None\n",
      "Toronto\n",
      "Toronto\n",
      "Toronto\n",
      "None\n",
      "Mississauga\n",
      "Brampton\n",
      "Toronto\n",
      "Toronto\n",
      "Toronto\n"
     ]
    }
   ],
   "source": [
    "for i in range(len(data['data'])):\n",
    "    print(data['data'][i]['job_city'])"
   ]
  },
  {
   "cell_type": "code",
   "execution_count": 11,
   "id": "a8178e64",
   "metadata": {},
   "outputs": [],
   "source": [
    "#for i in data['data']:\n",
    "    #print(f'{i} \\n \\n')\n",
    "import pandas as pd"
   ]
  },
  {
   "cell_type": "code",
   "execution_count": 22,
   "id": "232b8818",
   "metadata": {},
   "outputs": [],
   "source": []
  },
  {
   "cell_type": "code",
   "execution_count": 25,
   "id": "8cb4bc92",
   "metadata": {},
   "outputs": [],
   "source": [
    "employer_website = [] #data['data'][0]['employer_website']\n",
    "job_id = []#data['data'][0]['job_id']\n",
    "job_employment_type = [] #data['data'][0]['job_employment_type']\n",
    "job_title = [] #data['data'][0]['job_title']\n",
    "job_apply_link=[] #data['data'][0]['job_apply_link']\n",
    "job_description=[] #data['data'][0]['job_description']\n",
    "job_city=[] #data['data'][0]['job_city']\n",
    "job_country =[] #data['data'][0]['job_country']\n",
    "job_posted_at_date =[] #data['data'][0]['job_posted_at_datetime_utc'][:10]\n",
    "employer_company_type =[] #data['data'][0]['employer_company_type']\n",
    "\n",
    "for i in range(len(data['data'])):\n",
    "    employer_website.append(data['data'][i]['employer_website'])\n",
    "    job_id.append(data['data'][i]['job_id'])\n",
    "    job_employment_type.append(data['data'][i]['job_employment_type'])\n",
    "    job_title.append(data['data'][i]['job_title'])\n",
    "    job_apply_link.append(data['data'][i]['job_apply_link'])\n",
    "    job_description.append(data['data'][i]['job_description'])\n",
    "    job_city.append(data['data'][i]['job_city'])\n",
    "    job_country.append(data['data'][i]['job_country'])\n",
    "    job_posted_at_date.append(data['data'][i]['job_posted_at_datetime_utc'][:10])\n",
    "    employer_company_type.append(data['data'][i]['employer_company_type'])\n",
    "    \n",
    "    \n",
    "rapid_dict = {\n",
    "                'job_id': job_id,\n",
    "                'employer_website':employer_website,\n",
    "                'job_employment_type':job_employment_type,\n",
    "                'job_title':job_title,\n",
    "                'job_apply_link':job_apply_link,\n",
    "                'job_description':job_description,\n",
    "                'job_city':job_city,\n",
    "                'job_country':job_country,\n",
    "                'job_posted_at_date':job_posted_at_date,\n",
    "                'employer_company_type':employer_company_type        \n",
    "            \n",
    "             }"
   ]
  },
  {
   "cell_type": "code",
   "execution_count": 28,
   "id": "098f3aec",
   "metadata": {},
   "outputs": [
    {
     "data": {
      "text/plain": [
       "[None,\n",
       " 'http://www.360insights.com',\n",
       " 'http://www.capgemini.com',\n",
       " 'http://www.cardinal.com',\n",
       " 'http://www.spotify.com',\n",
       " None,\n",
       " 'http://www.capgemini.com',\n",
       " 'http://www.virtusa.com',\n",
       " 'http://www.spinmaster.com',\n",
       " 'http://www.bell.ca']"
      ]
     },
     "execution_count": 28,
     "metadata": {},
     "output_type": "execute_result"
    }
   ],
   "source": [
    "employer_website"
   ]
  },
  {
   "cell_type": "code",
   "execution_count": 27,
   "id": "e1476981",
   "metadata": {},
   "outputs": [],
   "source": []
  },
  {
   "cell_type": "code",
   "execution_count": 103,
   "id": "d99e171d",
   "metadata": {},
   "outputs": [],
   "source": [
    "#rapid_dict"
   ]
  },
  {
   "cell_type": "code",
   "execution_count": 29,
   "id": "9ecaa338",
   "metadata": {},
   "outputs": [],
   "source": [
    "import pandas as pd"
   ]
  },
  {
   "cell_type": "code",
   "execution_count": 39,
   "id": "97db4f49",
   "metadata": {},
   "outputs": [],
   "source": [
    "job_df = pd.DataFrame(rapid_dict)"
   ]
  },
  {
   "cell_type": "code",
   "execution_count": 40,
   "id": "c1eb74b1",
   "metadata": {},
   "outputs": [
    {
     "data": {
      "text/html": [
       "<div>\n",
       "<style scoped>\n",
       "    .dataframe tbody tr th:only-of-type {\n",
       "        vertical-align: middle;\n",
       "    }\n",
       "\n",
       "    .dataframe tbody tr th {\n",
       "        vertical-align: top;\n",
       "    }\n",
       "\n",
       "    .dataframe thead th {\n",
       "        text-align: right;\n",
       "    }\n",
       "</style>\n",
       "<table border=\"1\" class=\"dataframe\">\n",
       "  <thead>\n",
       "    <tr style=\"text-align: right;\">\n",
       "      <th></th>\n",
       "      <th>job_id</th>\n",
       "      <th>employer_website</th>\n",
       "      <th>job_employment_type</th>\n",
       "      <th>job_title</th>\n",
       "      <th>job_apply_link</th>\n",
       "      <th>job_description</th>\n",
       "      <th>job_city</th>\n",
       "      <th>job_country</th>\n",
       "      <th>job_posted_at_date</th>\n",
       "      <th>employer_company_type</th>\n",
       "    </tr>\n",
       "  </thead>\n",
       "  <tbody>\n",
       "    <tr>\n",
       "      <th>0</th>\n",
       "      <td>TSA6HdDVXJIAAAAAAAAAAA==</td>\n",
       "      <td>None</td>\n",
       "      <td>FULLTIME</td>\n",
       "      <td>Data Engineer</td>\n",
       "      <td>https://ca.linkedin.com/jobs/view/data-enginee...</td>\n",
       "      <td>Responsibilities:\\n• Responsible for designing...</td>\n",
       "      <td>Toronto</td>\n",
       "      <td>CA</td>\n",
       "      <td>2023-07-11</td>\n",
       "      <td>None</td>\n",
       "    </tr>\n",
       "    <tr>\n",
       "      <th>1</th>\n",
       "      <td>WVwDooRTBy8AAAAAAAAAAA==</td>\n",
       "      <td>http://www.360insights.com</td>\n",
       "      <td>FULLTIME</td>\n",
       "      <td>Data Engineer</td>\n",
       "      <td>https://ca.linkedin.com/jobs/view/data-enginee...</td>\n",
       "      <td>Experiences that create growth. Growth that cr...</td>\n",
       "      <td>Whitby</td>\n",
       "      <td>CA</td>\n",
       "      <td>2023-07-11</td>\n",
       "      <td>None</td>\n",
       "    </tr>\n",
       "    <tr>\n",
       "      <th>2</th>\n",
       "      <td>y-bG38YgelAAAAAAAAAAAA==</td>\n",
       "      <td>http://www.capgemini.com</td>\n",
       "      <td>FULLTIME</td>\n",
       "      <td>Data engineer</td>\n",
       "      <td>https://www.jobillico.com/en/job-offer/capgemi...</td>\n",
       "      <td>Job Description\\n\\nJob Title: Data Engineer\\nJ...</td>\n",
       "      <td>Mississauga</td>\n",
       "      <td>CA</td>\n",
       "      <td>2023-07-12</td>\n",
       "      <td>Consulting</td>\n",
       "    </tr>\n",
       "    <tr>\n",
       "      <th>3</th>\n",
       "      <td>RR3-JQr_Md8AAAAAAAAAAA==</td>\n",
       "      <td>http://www.cardinal.com</td>\n",
       "      <td>FULLTIME</td>\n",
       "      <td>Sr. Data Engineer</td>\n",
       "      <td>https://www.prodivnet.com/job/sr-data-engineer...</td>\n",
       "      <td>What Data Engineering contributes to Cardinal ...</td>\n",
       "      <td>Vaughan</td>\n",
       "      <td>CA</td>\n",
       "      <td>2023-07-12</td>\n",
       "      <td>Wholesale</td>\n",
       "    </tr>\n",
       "    <tr>\n",
       "      <th>4</th>\n",
       "      <td>F38wa5W7Lk4AAAAAAAAAAA==</td>\n",
       "      <td>http://www.spotify.com</td>\n",
       "      <td>FULLTIME</td>\n",
       "      <td>Data Engineer - Financial Engineering</td>\n",
       "      <td>https://ca.linkedin.com/jobs/view/data-enginee...</td>\n",
       "      <td>We are looking for a Data Engineer to join our...</td>\n",
       "      <td>Toronto</td>\n",
       "      <td>CA</td>\n",
       "      <td>2023-07-10</td>\n",
       "      <td>None</td>\n",
       "    </tr>\n",
       "    <tr>\n",
       "      <th>5</th>\n",
       "      <td>iDgsZQSOSk0AAAAAAAAAAA==</td>\n",
       "      <td>None</td>\n",
       "      <td>CONTRACTOR</td>\n",
       "      <td>Fullstack Data Engineer</td>\n",
       "      <td>https://ca.linkedin.com/jobs/view/fullstack-da...</td>\n",
       "      <td>Title: Fullstack Data Engineer\\n\\nLocation: To...</td>\n",
       "      <td>Toronto</td>\n",
       "      <td>CA</td>\n",
       "      <td>2023-07-11</td>\n",
       "      <td>None</td>\n",
       "    </tr>\n",
       "    <tr>\n",
       "      <th>6</th>\n",
       "      <td>HB-JQGT-O6MAAAAAAAAAAA==</td>\n",
       "      <td>http://www.capgemini.com</td>\n",
       "      <td>FULLTIME</td>\n",
       "      <td>Data engineer</td>\n",
       "      <td>https://www.jobillico.com/en/job-offer/capgemi...</td>\n",
       "      <td>Job Title: Data Engineer\\nJob location: Toront...</td>\n",
       "      <td>Toronto</td>\n",
       "      <td>CA</td>\n",
       "      <td>2023-07-08</td>\n",
       "      <td>Consulting</td>\n",
       "    </tr>\n",
       "    <tr>\n",
       "      <th>7</th>\n",
       "      <td>I4ByAy0m-rYAAAAAAAAAAA==</td>\n",
       "      <td>http://www.virtusa.com</td>\n",
       "      <td>FULLTIME</td>\n",
       "      <td>Data Engineer</td>\n",
       "      <td>https://ca.linkedin.com/jobs/view/data-enginee...</td>\n",
       "      <td>Expertise with AWS Glue, spark and Redshift/\\n...</td>\n",
       "      <td>Toronto</td>\n",
       "      <td>CA</td>\n",
       "      <td>2023-07-10</td>\n",
       "      <td>Computer Services</td>\n",
       "    </tr>\n",
       "    <tr>\n",
       "      <th>8</th>\n",
       "      <td>rap_7MYqJWsAAAAAAAAAAA==</td>\n",
       "      <td>http://www.spinmaster.com</td>\n",
       "      <td>FULLTIME</td>\n",
       "      <td>Data Engineer</td>\n",
       "      <td>https://www.spinmastercareers.com/global/be/jo...</td>\n",
       "      <td>Please Note: If you are a current Spin Master ...</td>\n",
       "      <td>Toronto</td>\n",
       "      <td>CA</td>\n",
       "      <td>2023-07-06</td>\n",
       "      <td>Manufacturing</td>\n",
       "    </tr>\n",
       "    <tr>\n",
       "      <th>9</th>\n",
       "      <td>J6vZDAUHzPUAAAAAAAAAAA==</td>\n",
       "      <td>http://www.bell.ca</td>\n",
       "      <td>FULLTIME</td>\n",
       "      <td>Sr. Data Engineer</td>\n",
       "      <td>https://www.simplyhired.ca/job/X41aBmqiZfb_z_6...</td>\n",
       "      <td>As the largest high-tech team in Canada, Netwo...</td>\n",
       "      <td>None</td>\n",
       "      <td>CA</td>\n",
       "      <td>2023-07-12</td>\n",
       "      <td>Information</td>\n",
       "    </tr>\n",
       "  </tbody>\n",
       "</table>\n",
       "</div>"
      ],
      "text/plain": [
       "                     job_id            employer_website job_employment_type   \n",
       "0  TSA6HdDVXJIAAAAAAAAAAA==                        None            FULLTIME  \\\n",
       "1  WVwDooRTBy8AAAAAAAAAAA==  http://www.360insights.com            FULLTIME   \n",
       "2  y-bG38YgelAAAAAAAAAAAA==    http://www.capgemini.com            FULLTIME   \n",
       "3  RR3-JQr_Md8AAAAAAAAAAA==     http://www.cardinal.com            FULLTIME   \n",
       "4  F38wa5W7Lk4AAAAAAAAAAA==      http://www.spotify.com            FULLTIME   \n",
       "5  iDgsZQSOSk0AAAAAAAAAAA==                        None          CONTRACTOR   \n",
       "6  HB-JQGT-O6MAAAAAAAAAAA==    http://www.capgemini.com            FULLTIME   \n",
       "7  I4ByAy0m-rYAAAAAAAAAAA==      http://www.virtusa.com            FULLTIME   \n",
       "8  rap_7MYqJWsAAAAAAAAAAA==   http://www.spinmaster.com            FULLTIME   \n",
       "9  J6vZDAUHzPUAAAAAAAAAAA==          http://www.bell.ca            FULLTIME   \n",
       "\n",
       "                               job_title   \n",
       "0                          Data Engineer  \\\n",
       "1                          Data Engineer   \n",
       "2                          Data engineer   \n",
       "3                      Sr. Data Engineer   \n",
       "4  Data Engineer - Financial Engineering   \n",
       "5                Fullstack Data Engineer   \n",
       "6                          Data engineer   \n",
       "7                          Data Engineer   \n",
       "8                          Data Engineer   \n",
       "9                      Sr. Data Engineer   \n",
       "\n",
       "                                      job_apply_link   \n",
       "0  https://ca.linkedin.com/jobs/view/data-enginee...  \\\n",
       "1  https://ca.linkedin.com/jobs/view/data-enginee...   \n",
       "2  https://www.jobillico.com/en/job-offer/capgemi...   \n",
       "3  https://www.prodivnet.com/job/sr-data-engineer...   \n",
       "4  https://ca.linkedin.com/jobs/view/data-enginee...   \n",
       "5  https://ca.linkedin.com/jobs/view/fullstack-da...   \n",
       "6  https://www.jobillico.com/en/job-offer/capgemi...   \n",
       "7  https://ca.linkedin.com/jobs/view/data-enginee...   \n",
       "8  https://www.spinmastercareers.com/global/be/jo...   \n",
       "9  https://www.simplyhired.ca/job/X41aBmqiZfb_z_6...   \n",
       "\n",
       "                                     job_description     job_city job_country   \n",
       "0  Responsibilities:\\n• Responsible for designing...      Toronto          CA  \\\n",
       "1  Experiences that create growth. Growth that cr...       Whitby          CA   \n",
       "2  Job Description\\n\\nJob Title: Data Engineer\\nJ...  Mississauga          CA   \n",
       "3  What Data Engineering contributes to Cardinal ...      Vaughan          CA   \n",
       "4  We are looking for a Data Engineer to join our...      Toronto          CA   \n",
       "5  Title: Fullstack Data Engineer\\n\\nLocation: To...      Toronto          CA   \n",
       "6  Job Title: Data Engineer\\nJob location: Toront...      Toronto          CA   \n",
       "7  Expertise with AWS Glue, spark and Redshift/\\n...      Toronto          CA   \n",
       "8  Please Note: If you are a current Spin Master ...      Toronto          CA   \n",
       "9  As the largest high-tech team in Canada, Netwo...         None          CA   \n",
       "\n",
       "  job_posted_at_date employer_company_type  \n",
       "0         2023-07-11                  None  \n",
       "1         2023-07-11                  None  \n",
       "2         2023-07-12            Consulting  \n",
       "3         2023-07-12             Wholesale  \n",
       "4         2023-07-10                  None  \n",
       "5         2023-07-11                  None  \n",
       "6         2023-07-08            Consulting  \n",
       "7         2023-07-10     Computer Services  \n",
       "8         2023-07-06         Manufacturing  \n",
       "9         2023-07-12           Information  "
      ]
     },
     "execution_count": 40,
     "metadata": {},
     "output_type": "execute_result"
    }
   ],
   "source": [
    "job_df"
   ]
  },
  {
   "cell_type": "code",
   "execution_count": 35,
   "id": "c7182109",
   "metadata": {},
   "outputs": [
    {
     "name": "stdout",
     "output_type": "stream",
     "text": [
      "<class 'pandas.core.frame.DataFrame'>\n",
      "RangeIndex: 10 entries, 0 to 9\n",
      "Data columns (total 10 columns):\n",
      " #   Column                 Non-Null Count  Dtype \n",
      "---  ------                 --------------  ----- \n",
      " 0   job_id                 10 non-null     object\n",
      " 1   employer_website       8 non-null      object\n",
      " 2   job_employment_type    10 non-null     object\n",
      " 3   job_title              10 non-null     object\n",
      " 4   job_apply_link         10 non-null     object\n",
      " 5   job_description        10 non-null     object\n",
      " 6   job_city               9 non-null      object\n",
      " 7   job_country            10 non-null     object\n",
      " 8   job_posted_at_date     10 non-null     object\n",
      " 9   employer_company_type  6 non-null      object\n",
      "dtypes: object(10)\n",
      "memory usage: 932.0+ bytes\n"
     ]
    }
   ],
   "source": [
    "job_df.info()"
   ]
  },
  {
   "cell_type": "code",
   "execution_count": 41,
   "id": "048657ca",
   "metadata": {},
   "outputs": [],
   "source": [
    "#change to date_time datatype\n",
    "\n",
    "job_df['job_posted_at_date'] = pd.to_datetime(job_df['job_posted_at_date'])"
   ]
  },
  {
   "cell_type": "code",
   "execution_count": 43,
   "id": "f323ea14",
   "metadata": {},
   "outputs": [
    {
     "name": "stdout",
     "output_type": "stream",
     "text": [
      "<class 'pandas.core.frame.DataFrame'>\n",
      "RangeIndex: 10 entries, 0 to 9\n",
      "Data columns (total 10 columns):\n",
      " #   Column                 Non-Null Count  Dtype         \n",
      "---  ------                 --------------  -----         \n",
      " 0   job_id                 10 non-null     object        \n",
      " 1   employer_website       8 non-null      object        \n",
      " 2   job_employment_type    10 non-null     object        \n",
      " 3   job_title              10 non-null     object        \n",
      " 4   job_apply_link         10 non-null     object        \n",
      " 5   job_description        10 non-null     object        \n",
      " 6   job_city               9 non-null      object        \n",
      " 7   job_country            10 non-null     object        \n",
      " 8   job_posted_at_date     10 non-null     datetime64[ns]\n",
      " 9   employer_company_type  6 non-null      object        \n",
      "dtypes: datetime64[ns](1), object(9)\n",
      "memory usage: 932.0+ bytes\n"
     ]
    }
   ],
   "source": [
    "job_df.info()"
   ]
  },
  {
   "cell_type": "code",
   "execution_count": null,
   "id": "680cb903",
   "metadata": {},
   "outputs": [],
   "source": [
    "# #TRANSFORMATION: 1) country should full_name \n",
    "# 2) DATE: datetime, --DONE\n",
    "# 3) job description, \n",
    "# 4) company name(from website), \n",
    "# 5) key_words(skills)"
   ]
  },
  {
   "cell_type": "code",
   "execution_count": 45,
   "id": "e9a88964",
   "metadata": {},
   "outputs": [
    {
     "data": {
      "text/plain": [
       "\"Responsibilities:\\n• Responsible for designing and implementing the infrastructure necessary to store, process, and analyze large sets of data.\\n• Work with stakeholders to understand their business needs and develop scalable and reliable data architectures.\\n• Ensure that the infrastructure is optimized for performance and efficiency.\\n• Assessing new data ingestion requirements by working with source data teams/SMEs and the internal data eng senior engineers\\n• Designing, planning and aligning on ingestion pipeline solutions including tech/tools available in the company's Google Cloud platform\\n• Data modelling using existing team-built dbt framework\\n• Bug fixes and delivering new feature request for existing etls\\n• Documenting progress and status in Jira\\n• Documenting business domain knowledge in team’s online wiki/confluence\\n\\nQualifications:\\n• Minimum 5+ years' experience\\n• Data Engineering – ETL, Orchestration, Data Modeling\\n• Python and SQL experience\\n• Google Cloud Platform experience\""
      ]
     },
     "execution_count": 45,
     "metadata": {},
     "output_type": "execute_result"
    }
   ],
   "source": [
    "job_df['job_description'][0]"
   ]
  },
  {
   "cell_type": "code",
   "execution_count": 58,
   "id": "86d466d6",
   "metadata": {},
   "outputs": [],
   "source": [
    "words = ['ETL','Orchestration', 'modeling', 'python', \n",
    "         'sql','pandas','docker','aws','gcp','google cloud',\n",
    "         'postgres','mongodb','spark','jira','databricks',\n",
    "         'azure','dbt','amazon','s3','linux','hadoop','kubernetes',\n",
    "         'hbase','hive','fivetran','mage','airflow','ci/cd','elt']\n",
    "\n",
    "acronyms = ['sql','dbt','elt','etl','aws','gcp']"
   ]
  },
  {
   "cell_type": "code",
   "execution_count": 61,
   "id": "90276c84",
   "metadata": {},
   "outputs": [
    {
     "ename": "SyntaxError",
     "evalue": "incomplete input (2988531120.py, line 5)",
     "output_type": "error",
     "traceback": [
      "\u001b[1;36m  Cell \u001b[1;32mIn[61], line 5\u001b[1;36m\u001b[0m\n\u001b[1;33m    #else: #print(i.title())\u001b[0m\n\u001b[1;37m                            ^\u001b[0m\n\u001b[1;31mSyntaxError\u001b[0m\u001b[1;31m:\u001b[0m incomplete input\n"
     ]
    }
   ],
   "source": [
    "for i in words:\n",
    "    if i.lower() in job_df['job_description'][0].lower():\n",
    "        if i.lower() in acronyms:\n",
    "            #print(i.upper())\n",
    "        #else: #print(i.title())"
   ]
  },
  {
   "cell_type": "code",
   "execution_count": 78,
   "id": "6f4fbf30",
   "metadata": {},
   "outputs": [],
   "source": [
    "def extract_skills(c):\n",
    "    skills = []\n",
    "    for i in words:\n",
    "        if i.lower() in c.lower():\n",
    "            if i.lower() in acronyms:\n",
    "                skills.append(i.upper())\n",
    "            else: skills.append(i.title())\n",
    "    return skills"
   ]
  },
  {
   "cell_type": "code",
   "execution_count": 70,
   "id": "6bcf7872",
   "metadata": {},
   "outputs": [
    {
     "data": {
      "text/plain": [
       "['ETL',\n",
       " 'Orchestration',\n",
       " 'Modeling',\n",
       " 'Python',\n",
       " 'SQL',\n",
       " 'Google Cloud',\n",
       " 'Jira',\n",
       " 'DBT']"
      ]
     },
     "execution_count": 70,
     "metadata": {},
     "output_type": "execute_result"
    }
   ],
   "source": [
    "\n",
    "extract_skills(job_df['job_description'][0])"
   ]
  },
  {
   "cell_type": "code",
   "execution_count": 79,
   "id": "9c266974",
   "metadata": {},
   "outputs": [],
   "source": [
    "job_df['skillset'] = job_df['job_description'].apply(lambda x: extract_skills(x))"
   ]
  },
  {
   "cell_type": "code",
   "execution_count": 80,
   "id": "96387637",
   "metadata": {},
   "outputs": [
    {
     "data": {
      "text/html": [
       "<div>\n",
       "<style scoped>\n",
       "    .dataframe tbody tr th:only-of-type {\n",
       "        vertical-align: middle;\n",
       "    }\n",
       "\n",
       "    .dataframe tbody tr th {\n",
       "        vertical-align: top;\n",
       "    }\n",
       "\n",
       "    .dataframe thead th {\n",
       "        text-align: right;\n",
       "    }\n",
       "</style>\n",
       "<table border=\"1\" class=\"dataframe\">\n",
       "  <thead>\n",
       "    <tr style=\"text-align: right;\">\n",
       "      <th></th>\n",
       "      <th>job_id</th>\n",
       "      <th>employer_website</th>\n",
       "      <th>job_employment_type</th>\n",
       "      <th>job_title</th>\n",
       "      <th>job_apply_link</th>\n",
       "      <th>job_description</th>\n",
       "      <th>job_city</th>\n",
       "      <th>job_country</th>\n",
       "      <th>job_posted_at_date</th>\n",
       "      <th>employer_company_type</th>\n",
       "      <th>skillset</th>\n",
       "    </tr>\n",
       "  </thead>\n",
       "  <tbody>\n",
       "    <tr>\n",
       "      <th>0</th>\n",
       "      <td>TSA6HdDVXJIAAAAAAAAAAA==</td>\n",
       "      <td>None</td>\n",
       "      <td>FULLTIME</td>\n",
       "      <td>Data Engineer</td>\n",
       "      <td>https://ca.linkedin.com/jobs/view/data-enginee...</td>\n",
       "      <td>Responsibilities:\\n• Responsible for designing...</td>\n",
       "      <td>Toronto</td>\n",
       "      <td>CA</td>\n",
       "      <td>2023-07-11</td>\n",
       "      <td>None</td>\n",
       "      <td>[ETL, Orchestration, Modeling, Python, SQL, Go...</td>\n",
       "    </tr>\n",
       "    <tr>\n",
       "      <th>1</th>\n",
       "      <td>WVwDooRTBy8AAAAAAAAAAA==</td>\n",
       "      <td>http://www.360insights.com</td>\n",
       "      <td>FULLTIME</td>\n",
       "      <td>Data Engineer</td>\n",
       "      <td>https://ca.linkedin.com/jobs/view/data-enginee...</td>\n",
       "      <td>Experiences that create growth. Growth that cr...</td>\n",
       "      <td>Whitby</td>\n",
       "      <td>CA</td>\n",
       "      <td>2023-07-11</td>\n",
       "      <td>None</td>\n",
       "      <td>[ETL, Modeling, Python, SQL, AWS, Google Cloud...</td>\n",
       "    </tr>\n",
       "    <tr>\n",
       "      <th>2</th>\n",
       "      <td>y-bG38YgelAAAAAAAAAAAA==</td>\n",
       "      <td>http://www.capgemini.com</td>\n",
       "      <td>FULLTIME</td>\n",
       "      <td>Data engineer</td>\n",
       "      <td>https://www.jobillico.com/en/job-offer/capgemi...</td>\n",
       "      <td>Job Description\\n\\nJob Title: Data Engineer\\nJ...</td>\n",
       "      <td>Mississauga</td>\n",
       "      <td>CA</td>\n",
       "      <td>2023-07-12</td>\n",
       "      <td>Consulting</td>\n",
       "      <td>[Python, SQL, AWS, Spark, Hadoop]</td>\n",
       "    </tr>\n",
       "    <tr>\n",
       "      <th>3</th>\n",
       "      <td>RR3-JQr_Md8AAAAAAAAAAA==</td>\n",
       "      <td>http://www.cardinal.com</td>\n",
       "      <td>FULLTIME</td>\n",
       "      <td>Sr. Data Engineer</td>\n",
       "      <td>https://www.prodivnet.com/job/sr-data-engineer...</td>\n",
       "      <td>What Data Engineering contributes to Cardinal ...</td>\n",
       "      <td>Vaughan</td>\n",
       "      <td>CA</td>\n",
       "      <td>2023-07-12</td>\n",
       "      <td>Wholesale</td>\n",
       "      <td>[ETL, Modeling, Python, SQL, AWS, GCP]</td>\n",
       "    </tr>\n",
       "    <tr>\n",
       "      <th>4</th>\n",
       "      <td>F38wa5W7Lk4AAAAAAAAAAA==</td>\n",
       "      <td>http://www.spotify.com</td>\n",
       "      <td>FULLTIME</td>\n",
       "      <td>Data Engineer - Financial Engineering</td>\n",
       "      <td>https://ca.linkedin.com/jobs/view/data-enginee...</td>\n",
       "      <td>We are looking for a Data Engineer to join our...</td>\n",
       "      <td>Toronto</td>\n",
       "      <td>CA</td>\n",
       "      <td>2023-07-10</td>\n",
       "      <td>None</td>\n",
       "      <td>[ETL, SQL, Docker, Google Cloud]</td>\n",
       "    </tr>\n",
       "    <tr>\n",
       "      <th>5</th>\n",
       "      <td>iDgsZQSOSk0AAAAAAAAAAA==</td>\n",
       "      <td>None</td>\n",
       "      <td>CONTRACTOR</td>\n",
       "      <td>Fullstack Data Engineer</td>\n",
       "      <td>https://ca.linkedin.com/jobs/view/fullstack-da...</td>\n",
       "      <td>Title: Fullstack Data Engineer\\n\\nLocation: To...</td>\n",
       "      <td>Toronto</td>\n",
       "      <td>CA</td>\n",
       "      <td>2023-07-11</td>\n",
       "      <td>None</td>\n",
       "      <td>[Orchestration, Python, SQL, AWS, Spark, Azure...</td>\n",
       "    </tr>\n",
       "    <tr>\n",
       "      <th>6</th>\n",
       "      <td>HB-JQGT-O6MAAAAAAAAAAA==</td>\n",
       "      <td>http://www.capgemini.com</td>\n",
       "      <td>FULLTIME</td>\n",
       "      <td>Data engineer</td>\n",
       "      <td>https://www.jobillico.com/en/job-offer/capgemi...</td>\n",
       "      <td>Job Title: Data Engineer\\nJob location: Toront...</td>\n",
       "      <td>Toronto</td>\n",
       "      <td>CA</td>\n",
       "      <td>2023-07-08</td>\n",
       "      <td>Consulting</td>\n",
       "      <td>[ETL, Python, SQL, Docker, Spark, Azure]</td>\n",
       "    </tr>\n",
       "    <tr>\n",
       "      <th>7</th>\n",
       "      <td>I4ByAy0m-rYAAAAAAAAAAA==</td>\n",
       "      <td>http://www.virtusa.com</td>\n",
       "      <td>FULLTIME</td>\n",
       "      <td>Data Engineer</td>\n",
       "      <td>https://ca.linkedin.com/jobs/view/data-enginee...</td>\n",
       "      <td>Expertise with AWS Glue, spark and Redshift/\\n...</td>\n",
       "      <td>Toronto</td>\n",
       "      <td>CA</td>\n",
       "      <td>2023-07-10</td>\n",
       "      <td>Computer Services</td>\n",
       "      <td>[SQL, AWS, Spark]</td>\n",
       "    </tr>\n",
       "    <tr>\n",
       "      <th>8</th>\n",
       "      <td>rap_7MYqJWsAAAAAAAAAAA==</td>\n",
       "      <td>http://www.spinmaster.com</td>\n",
       "      <td>FULLTIME</td>\n",
       "      <td>Data Engineer</td>\n",
       "      <td>https://www.spinmastercareers.com/global/be/jo...</td>\n",
       "      <td>Please Note: If you are a current Spin Master ...</td>\n",
       "      <td>Toronto</td>\n",
       "      <td>CA</td>\n",
       "      <td>2023-07-06</td>\n",
       "      <td>Manufacturing</td>\n",
       "      <td>[Python, SQL, AWS, GCP, Azure]</td>\n",
       "    </tr>\n",
       "    <tr>\n",
       "      <th>9</th>\n",
       "      <td>J6vZDAUHzPUAAAAAAAAAAA==</td>\n",
       "      <td>http://www.bell.ca</td>\n",
       "      <td>FULLTIME</td>\n",
       "      <td>Sr. Data Engineer</td>\n",
       "      <td>https://www.simplyhired.ca/job/X41aBmqiZfb_z_6...</td>\n",
       "      <td>As the largest high-tech team in Canada, Netwo...</td>\n",
       "      <td>None</td>\n",
       "      <td>CA</td>\n",
       "      <td>2023-07-12</td>\n",
       "      <td>Information</td>\n",
       "      <td>[Jira, Linux, Hadoop, Ci/Cd]</td>\n",
       "    </tr>\n",
       "  </tbody>\n",
       "</table>\n",
       "</div>"
      ],
      "text/plain": [
       "                     job_id            employer_website job_employment_type   \n",
       "0  TSA6HdDVXJIAAAAAAAAAAA==                        None            FULLTIME  \\\n",
       "1  WVwDooRTBy8AAAAAAAAAAA==  http://www.360insights.com            FULLTIME   \n",
       "2  y-bG38YgelAAAAAAAAAAAA==    http://www.capgemini.com            FULLTIME   \n",
       "3  RR3-JQr_Md8AAAAAAAAAAA==     http://www.cardinal.com            FULLTIME   \n",
       "4  F38wa5W7Lk4AAAAAAAAAAA==      http://www.spotify.com            FULLTIME   \n",
       "5  iDgsZQSOSk0AAAAAAAAAAA==                        None          CONTRACTOR   \n",
       "6  HB-JQGT-O6MAAAAAAAAAAA==    http://www.capgemini.com            FULLTIME   \n",
       "7  I4ByAy0m-rYAAAAAAAAAAA==      http://www.virtusa.com            FULLTIME   \n",
       "8  rap_7MYqJWsAAAAAAAAAAA==   http://www.spinmaster.com            FULLTIME   \n",
       "9  J6vZDAUHzPUAAAAAAAAAAA==          http://www.bell.ca            FULLTIME   \n",
       "\n",
       "                               job_title   \n",
       "0                          Data Engineer  \\\n",
       "1                          Data Engineer   \n",
       "2                          Data engineer   \n",
       "3                      Sr. Data Engineer   \n",
       "4  Data Engineer - Financial Engineering   \n",
       "5                Fullstack Data Engineer   \n",
       "6                          Data engineer   \n",
       "7                          Data Engineer   \n",
       "8                          Data Engineer   \n",
       "9                      Sr. Data Engineer   \n",
       "\n",
       "                                      job_apply_link   \n",
       "0  https://ca.linkedin.com/jobs/view/data-enginee...  \\\n",
       "1  https://ca.linkedin.com/jobs/view/data-enginee...   \n",
       "2  https://www.jobillico.com/en/job-offer/capgemi...   \n",
       "3  https://www.prodivnet.com/job/sr-data-engineer...   \n",
       "4  https://ca.linkedin.com/jobs/view/data-enginee...   \n",
       "5  https://ca.linkedin.com/jobs/view/fullstack-da...   \n",
       "6  https://www.jobillico.com/en/job-offer/capgemi...   \n",
       "7  https://ca.linkedin.com/jobs/view/data-enginee...   \n",
       "8  https://www.spinmastercareers.com/global/be/jo...   \n",
       "9  https://www.simplyhired.ca/job/X41aBmqiZfb_z_6...   \n",
       "\n",
       "                                     job_description     job_city job_country   \n",
       "0  Responsibilities:\\n• Responsible for designing...      Toronto          CA  \\\n",
       "1  Experiences that create growth. Growth that cr...       Whitby          CA   \n",
       "2  Job Description\\n\\nJob Title: Data Engineer\\nJ...  Mississauga          CA   \n",
       "3  What Data Engineering contributes to Cardinal ...      Vaughan          CA   \n",
       "4  We are looking for a Data Engineer to join our...      Toronto          CA   \n",
       "5  Title: Fullstack Data Engineer\\n\\nLocation: To...      Toronto          CA   \n",
       "6  Job Title: Data Engineer\\nJob location: Toront...      Toronto          CA   \n",
       "7  Expertise with AWS Glue, spark and Redshift/\\n...      Toronto          CA   \n",
       "8  Please Note: If you are a current Spin Master ...      Toronto          CA   \n",
       "9  As the largest high-tech team in Canada, Netwo...         None          CA   \n",
       "\n",
       "  job_posted_at_date employer_company_type   \n",
       "0         2023-07-11                  None  \\\n",
       "1         2023-07-11                  None   \n",
       "2         2023-07-12            Consulting   \n",
       "3         2023-07-12             Wholesale   \n",
       "4         2023-07-10                  None   \n",
       "5         2023-07-11                  None   \n",
       "6         2023-07-08            Consulting   \n",
       "7         2023-07-10     Computer Services   \n",
       "8         2023-07-06         Manufacturing   \n",
       "9         2023-07-12           Information   \n",
       "\n",
       "                                            skillset  \n",
       "0  [ETL, Orchestration, Modeling, Python, SQL, Go...  \n",
       "1  [ETL, Modeling, Python, SQL, AWS, Google Cloud...  \n",
       "2                  [Python, SQL, AWS, Spark, Hadoop]  \n",
       "3             [ETL, Modeling, Python, SQL, AWS, GCP]  \n",
       "4                   [ETL, SQL, Docker, Google Cloud]  \n",
       "5  [Orchestration, Python, SQL, AWS, Spark, Azure...  \n",
       "6           [ETL, Python, SQL, Docker, Spark, Azure]  \n",
       "7                                  [SQL, AWS, Spark]  \n",
       "8                     [Python, SQL, AWS, GCP, Azure]  \n",
       "9                       [Jira, Linux, Hadoop, Ci/Cd]  "
      ]
     },
     "execution_count": 80,
     "metadata": {},
     "output_type": "execute_result"
    }
   ],
   "source": [
    "job_df"
   ]
  },
  {
   "cell_type": "code",
   "execution_count": null,
   "id": "28df3571",
   "metadata": {},
   "outputs": [],
   "source": []
  },
  {
   "cell_type": "code",
   "execution_count": null,
   "id": "e49f6f82",
   "metadata": {},
   "outputs": [],
   "source": []
  },
  {
   "cell_type": "code",
   "execution_count": null,
   "id": "318fa1dc",
   "metadata": {},
   "outputs": [],
   "source": []
  },
  {
   "cell_type": "code",
   "execution_count": null,
   "id": "7c80ae8a",
   "metadata": {},
   "outputs": [],
   "source": []
  },
  {
   "cell_type": "code",
   "execution_count": null,
   "id": "adaf203a",
   "metadata": {},
   "outputs": [],
   "source": []
  },
  {
   "cell_type": "code",
   "execution_count": null,
   "id": "619f81d9",
   "metadata": {},
   "outputs": [],
   "source": []
  },
  {
   "cell_type": "code",
   "execution_count": null,
   "id": "a237957f",
   "metadata": {},
   "outputs": [],
   "source": []
  },
  {
   "cell_type": "code",
   "execution_count": null,
   "id": "110171f3",
   "metadata": {},
   "outputs": [],
   "source": []
  },
  {
   "cell_type": "code",
   "execution_count": null,
   "id": "5f9ceee6",
   "metadata": {},
   "outputs": [],
   "source": []
  },
  {
   "cell_type": "code",
   "execution_count": null,
   "id": "63c3e149",
   "metadata": {},
   "outputs": [],
   "source": []
  },
  {
   "cell_type": "code",
   "execution_count": null,
   "id": "4eaa6e4e",
   "metadata": {},
   "outputs": [],
   "source": []
  },
  {
   "cell_type": "code",
   "execution_count": null,
   "id": "b1f69d99",
   "metadata": {},
   "outputs": [],
   "source": []
  },
  {
   "cell_type": "code",
   "execution_count": null,
   "id": "ae468703",
   "metadata": {},
   "outputs": [],
   "source": []
  },
  {
   "cell_type": "code",
   "execution_count": null,
   "id": "eba20196",
   "metadata": {},
   "outputs": [],
   "source": []
  },
  {
   "cell_type": "code",
   "execution_count": null,
   "id": "75607e3a",
   "metadata": {},
   "outputs": [],
   "source": []
  },
  {
   "cell_type": "code",
   "execution_count": null,
   "id": "6a8312c8",
   "metadata": {},
   "outputs": [],
   "source": []
  },
  {
   "cell_type": "code",
   "execution_count": null,
   "id": "6c9b5ca7",
   "metadata": {},
   "outputs": [],
   "source": []
  },
  {
   "cell_type": "code",
   "execution_count": null,
   "id": "371a2f32",
   "metadata": {},
   "outputs": [],
   "source": []
  },
  {
   "cell_type": "code",
   "execution_count": null,
   "id": "27082a1a",
   "metadata": {},
   "outputs": [],
   "source": []
  }
 ],
 "metadata": {
  "kernelspec": {
   "display_name": "Python 3 (ipykernel)",
   "language": "python",
   "name": "python3"
  },
  "language_info": {
   "codemirror_mode": {
    "name": "ipython",
    "version": 3
   },
   "file_extension": ".py",
   "mimetype": "text/x-python",
   "name": "python",
   "nbconvert_exporter": "python",
   "pygments_lexer": "ipython3",
   "version": "3.11.3"
  }
 },
 "nbformat": 4,
 "nbformat_minor": 5
}
