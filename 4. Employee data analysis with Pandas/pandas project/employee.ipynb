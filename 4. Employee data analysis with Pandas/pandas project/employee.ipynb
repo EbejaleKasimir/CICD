{
 "cells": [
  {
   "cell_type": "code",
   "execution_count": 1,
   "id": "f016a86a",
   "metadata": {},
   "outputs": [],
   "source": [
    "import pandas as pd"
   ]
  },
  {
   "cell_type": "code",
   "execution_count": 2,
   "id": "294f8ef2",
   "metadata": {},
   "outputs": [],
   "source": [
    "df_employee = pd.read_csv('employee_data.csv')"
   ]
  },
  {
   "cell_type": "code",
   "execution_count": 3,
   "id": "c60d8b06",
   "metadata": {},
   "outputs": [
    {
     "data": {
      "text/html": [
       "<div>\n",
       "<style scoped>\n",
       "    .dataframe tbody tr th:only-of-type {\n",
       "        vertical-align: middle;\n",
       "    }\n",
       "\n",
       "    .dataframe tbody tr th {\n",
       "        vertical-align: top;\n",
       "    }\n",
       "\n",
       "    .dataframe thead th {\n",
       "        text-align: right;\n",
       "    }\n",
       "</style>\n",
       "<table border=\"1\" class=\"dataframe\">\n",
       "  <thead>\n",
       "    <tr style=\"text-align: right;\">\n",
       "      <th></th>\n",
       "      <th>First Name</th>\n",
       "      <th>Surname</th>\n",
       "      <th>Department</th>\n",
       "      <th>Gender</th>\n",
       "      <th>Salary</th>\n",
       "    </tr>\n",
       "  </thead>\n",
       "  <tbody>\n",
       "    <tr>\n",
       "      <th>0</th>\n",
       "      <td>Isabella</td>\n",
       "      <td>Garcia</td>\n",
       "      <td>Marketing</td>\n",
       "      <td>Female</td>\n",
       "      <td>108268</td>\n",
       "    </tr>\n",
       "    <tr>\n",
       "      <th>1</th>\n",
       "      <td>David</td>\n",
       "      <td>Garcia</td>\n",
       "      <td>Marketing</td>\n",
       "      <td>Male</td>\n",
       "      <td>83567</td>\n",
       "    </tr>\n",
       "    <tr>\n",
       "      <th>2</th>\n",
       "      <td>Isabella</td>\n",
       "      <td>Smith</td>\n",
       "      <td>Marketing</td>\n",
       "      <td>Female</td>\n",
       "      <td>82613</td>\n",
       "    </tr>\n",
       "    <tr>\n",
       "      <th>3</th>\n",
       "      <td>Jane</td>\n",
       "      <td>Jones</td>\n",
       "      <td>HR</td>\n",
       "      <td>Female</td>\n",
       "      <td>85891</td>\n",
       "    </tr>\n",
       "    <tr>\n",
       "      <th>4</th>\n",
       "      <td>Emma</td>\n",
       "      <td>Wilson</td>\n",
       "      <td>Finance</td>\n",
       "      <td>Female</td>\n",
       "      <td>61243</td>\n",
       "    </tr>\n",
       "  </tbody>\n",
       "</table>\n",
       "</div>"
      ],
      "text/plain": [
       "  First Name Surname Department  Gender  Salary\n",
       "0   Isabella  Garcia  Marketing  Female  108268\n",
       "1      David  Garcia  Marketing    Male   83567\n",
       "2   Isabella   Smith  Marketing  Female   82613\n",
       "3       Jane   Jones         HR  Female   85891\n",
       "4       Emma  Wilson    Finance  Female   61243"
      ]
     },
     "execution_count": 3,
     "metadata": {},
     "output_type": "execute_result"
    }
   ],
   "source": [
    "df_employee.head()"
   ]
  },
  {
   "cell_type": "markdown",
   "id": "5b3cb4bb",
   "metadata": {},
   "source": [
    "# Part 1"
   ]
  },
  {
   "cell_type": "code",
   "execution_count": null,
   "id": "b030eb8a",
   "metadata": {},
   "outputs": [],
   "source": []
  },
  {
   "cell_type": "code",
   "execution_count": 4,
   "id": "aef4be4d",
   "metadata": {},
   "outputs": [
    {
     "data": {
      "text/html": [
       "<div>\n",
       "<style scoped>\n",
       "    .dataframe tbody tr th:only-of-type {\n",
       "        vertical-align: middle;\n",
       "    }\n",
       "\n",
       "    .dataframe tbody tr th {\n",
       "        vertical-align: top;\n",
       "    }\n",
       "\n",
       "    .dataframe thead th {\n",
       "        text-align: right;\n",
       "    }\n",
       "</style>\n",
       "<table border=\"1\" class=\"dataframe\">\n",
       "  <thead>\n",
       "    <tr style=\"text-align: right;\">\n",
       "      <th></th>\n",
       "      <th>Salary</th>\n",
       "    </tr>\n",
       "  </thead>\n",
       "  <tbody>\n",
       "    <tr>\n",
       "      <th>count</th>\n",
       "      <td>610.000000</td>\n",
       "    </tr>\n",
       "    <tr>\n",
       "      <th>mean</th>\n",
       "      <td>97475.655738</td>\n",
       "    </tr>\n",
       "    <tr>\n",
       "      <th>std</th>\n",
       "      <td>31871.677689</td>\n",
       "    </tr>\n",
       "    <tr>\n",
       "      <th>min</th>\n",
       "      <td>40469.000000</td>\n",
       "    </tr>\n",
       "    <tr>\n",
       "      <th>25%</th>\n",
       "      <td>68726.750000</td>\n",
       "    </tr>\n",
       "    <tr>\n",
       "      <th>50%</th>\n",
       "      <td>99666.500000</td>\n",
       "    </tr>\n",
       "    <tr>\n",
       "      <th>75%</th>\n",
       "      <td>124604.000000</td>\n",
       "    </tr>\n",
       "    <tr>\n",
       "      <th>max</th>\n",
       "      <td>149794.000000</td>\n",
       "    </tr>\n",
       "  </tbody>\n",
       "</table>\n",
       "</div>"
      ],
      "text/plain": [
       "              Salary\n",
       "count     610.000000\n",
       "mean    97475.655738\n",
       "std     31871.677689\n",
       "min     40469.000000\n",
       "25%     68726.750000\n",
       "50%     99666.500000\n",
       "75%    124604.000000\n",
       "max    149794.000000"
      ]
     },
     "execution_count": 4,
     "metadata": {},
     "output_type": "execute_result"
    }
   ],
   "source": [
    "df_employee.describe()"
   ]
  },
  {
   "cell_type": "code",
   "execution_count": 5,
   "id": "ec2144e0",
   "metadata": {},
   "outputs": [],
   "source": [
    "df_employee['Full_Name'] = df_employee['First Name'] + \" \" + df_employee['Surname']"
   ]
  },
  {
   "cell_type": "code",
   "execution_count": 6,
   "id": "62f31a07",
   "metadata": {},
   "outputs": [
    {
     "data": {
      "text/html": [
       "<div>\n",
       "<style scoped>\n",
       "    .dataframe tbody tr th:only-of-type {\n",
       "        vertical-align: middle;\n",
       "    }\n",
       "\n",
       "    .dataframe tbody tr th {\n",
       "        vertical-align: top;\n",
       "    }\n",
       "\n",
       "    .dataframe thead th {\n",
       "        text-align: right;\n",
       "    }\n",
       "</style>\n",
       "<table border=\"1\" class=\"dataframe\">\n",
       "  <thead>\n",
       "    <tr style=\"text-align: right;\">\n",
       "      <th></th>\n",
       "      <th>First Name</th>\n",
       "      <th>Surname</th>\n",
       "      <th>Department</th>\n",
       "      <th>Gender</th>\n",
       "      <th>Salary</th>\n",
       "      <th>Full_Name</th>\n",
       "    </tr>\n",
       "  </thead>\n",
       "  <tbody>\n",
       "    <tr>\n",
       "      <th>0</th>\n",
       "      <td>Isabella</td>\n",
       "      <td>Garcia</td>\n",
       "      <td>Marketing</td>\n",
       "      <td>Female</td>\n",
       "      <td>108268</td>\n",
       "      <td>Isabella Garcia</td>\n",
       "    </tr>\n",
       "    <tr>\n",
       "      <th>1</th>\n",
       "      <td>David</td>\n",
       "      <td>Garcia</td>\n",
       "      <td>Marketing</td>\n",
       "      <td>Male</td>\n",
       "      <td>83567</td>\n",
       "      <td>David Garcia</td>\n",
       "    </tr>\n",
       "    <tr>\n",
       "      <th>2</th>\n",
       "      <td>Isabella</td>\n",
       "      <td>Smith</td>\n",
       "      <td>Marketing</td>\n",
       "      <td>Female</td>\n",
       "      <td>82613</td>\n",
       "      <td>Isabella Smith</td>\n",
       "    </tr>\n",
       "    <tr>\n",
       "      <th>3</th>\n",
       "      <td>Jane</td>\n",
       "      <td>Jones</td>\n",
       "      <td>HR</td>\n",
       "      <td>Female</td>\n",
       "      <td>85891</td>\n",
       "      <td>Jane Jones</td>\n",
       "    </tr>\n",
       "    <tr>\n",
       "      <th>4</th>\n",
       "      <td>Emma</td>\n",
       "      <td>Wilson</td>\n",
       "      <td>Finance</td>\n",
       "      <td>Female</td>\n",
       "      <td>61243</td>\n",
       "      <td>Emma Wilson</td>\n",
       "    </tr>\n",
       "  </tbody>\n",
       "</table>\n",
       "</div>"
      ],
      "text/plain": [
       "  First Name Surname Department  Gender  Salary        Full_Name\n",
       "0   Isabella  Garcia  Marketing  Female  108268  Isabella Garcia\n",
       "1      David  Garcia  Marketing    Male   83567     David Garcia\n",
       "2   Isabella   Smith  Marketing  Female   82613   Isabella Smith\n",
       "3       Jane   Jones         HR  Female   85891       Jane Jones\n",
       "4       Emma  Wilson    Finance  Female   61243      Emma Wilson"
      ]
     },
     "execution_count": 6,
     "metadata": {},
     "output_type": "execute_result"
    }
   ],
   "source": [
    "df_employee.head()"
   ]
  },
  {
   "cell_type": "code",
   "execution_count": 7,
   "id": "ca454863",
   "metadata": {},
   "outputs": [],
   "source": [
    "# Check for duplicate rows"
   ]
  },
  {
   "cell_type": "code",
   "execution_count": 8,
   "id": "a259a05d",
   "metadata": {},
   "outputs": [],
   "source": [
    "duplicate_name = df_employee[df_employee.duplicated()]"
   ]
  },
  {
   "cell_type": "code",
   "execution_count": 9,
   "id": "01e3e00f",
   "metadata": {},
   "outputs": [
    {
     "name": "stdout",
     "output_type": "stream",
     "text": [
      "10\n"
     ]
    }
   ],
   "source": [
    "print(len(duplicate_name))"
   ]
  },
  {
   "cell_type": "code",
   "execution_count": 10,
   "id": "9357a3f8",
   "metadata": {},
   "outputs": [
    {
     "name": "stdout",
     "output_type": "stream",
     "text": [
      "<class 'pandas.core.frame.DataFrame'>\n",
      "RangeIndex: 610 entries, 0 to 609\n",
      "Data columns (total 6 columns):\n",
      " #   Column      Non-Null Count  Dtype \n",
      "---  ------      --------------  ----- \n",
      " 0   First Name  610 non-null    object\n",
      " 1   Surname     610 non-null    object\n",
      " 2   Department  610 non-null    object\n",
      " 3   Gender      610 non-null    object\n",
      " 4   Salary      610 non-null    int64 \n",
      " 5   Full_Name   610 non-null    object\n",
      "dtypes: int64(1), object(5)\n",
      "memory usage: 28.7+ KB\n"
     ]
    }
   ],
   "source": [
    "df_employee.info()"
   ]
  },
  {
   "cell_type": "code",
   "execution_count": 11,
   "id": "c5b4f6f9",
   "metadata": {},
   "outputs": [],
   "source": [
    "# drop duplicate rows"
   ]
  },
  {
   "cell_type": "code",
   "execution_count": 12,
   "id": "758973d5",
   "metadata": {},
   "outputs": [],
   "source": [
    "unique_employee = df_employee.drop_duplicates(inplace = True)"
   ]
  },
  {
   "cell_type": "code",
   "execution_count": 13,
   "id": "f320ff55",
   "metadata": {},
   "outputs": [
    {
     "name": "stdout",
     "output_type": "stream",
     "text": [
      "<class 'pandas.core.frame.DataFrame'>\n",
      "Index: 600 entries, 0 to 599\n",
      "Data columns (total 6 columns):\n",
      " #   Column      Non-Null Count  Dtype \n",
      "---  ------      --------------  ----- \n",
      " 0   First Name  600 non-null    object\n",
      " 1   Surname     600 non-null    object\n",
      " 2   Department  600 non-null    object\n",
      " 3   Gender      600 non-null    object\n",
      " 4   Salary      600 non-null    int64 \n",
      " 5   Full_Name   600 non-null    object\n",
      "dtypes: int64(1), object(5)\n",
      "memory usage: 32.8+ KB\n"
     ]
    }
   ],
   "source": [
    "df_employee.info()"
   ]
  },
  {
   "cell_type": "code",
   "execution_count": 14,
   "id": "b02f61ce",
   "metadata": {},
   "outputs": [
    {
     "name": "stdout",
     "output_type": "stream",
     "text": [
      "600 employees\n"
     ]
    }
   ],
   "source": [
    "num_employee = df_employee['Full_Name'].count()\n",
    "print (f'{num_employee} employees')"
   ]
  },
  {
   "cell_type": "markdown",
   "id": "67476a19",
   "metadata": {},
   "source": [
    "# 3. Maximum Salary"
   ]
  },
  {
   "cell_type": "markdown",
   "id": "a5c91d22",
   "metadata": {},
   "source": [
    "\n"
   ]
  },
  {
   "cell_type": "code",
   "execution_count": 15,
   "id": "9ec55e01",
   "metadata": {},
   "outputs": [
    {
     "data": {
      "text/plain": [
       "149794"
      ]
     },
     "execution_count": 15,
     "metadata": {},
     "output_type": "execute_result"
    }
   ],
   "source": [
    "df_employee['Salary'].max()"
   ]
  },
  {
   "cell_type": "markdown",
   "id": "49d2927a",
   "metadata": {},
   "source": [
    "# 4. Gender distribution"
   ]
  },
  {
   "cell_type": "code",
   "execution_count": 16,
   "id": "1865e58c",
   "metadata": {},
   "outputs": [
    {
     "name": "stdout",
     "output_type": "stream",
     "text": [
      "the total number of Males is 293\n",
      "the total number of Females is 307\n"
     ]
    }
   ],
   "source": [
    "gender_list = ['Male','Female']\n",
    "for gend in gender_list:\n",
    "    gender_count = df_employee[df_employee['Gender'] == gend]['Full_Name'].count()\n",
    "    print(f\"the total number of {gend}s is {gender_count}\")\n",
    "    gend=+1"
   ]
  },
  {
   "cell_type": "markdown",
   "id": "324ad3d4",
   "metadata": {},
   "source": [
    "# 5. Determine department with the highest average salary"
   ]
  },
  {
   "cell_type": "code",
   "execution_count": 17,
   "id": "19bcf366",
   "metadata": {},
   "outputs": [],
   "source": [
    "# Provide the list of the departments"
   ]
  },
  {
   "cell_type": "code",
   "execution_count": 18,
   "id": "2ee73f59",
   "metadata": {},
   "outputs": [],
   "source": [
    "list_dept = df_employee['Department'].unique().tolist()"
   ]
  },
  {
   "cell_type": "code",
   "execution_count": 19,
   "id": "412acc27",
   "metadata": {},
   "outputs": [
    {
     "name": "stdout",
     "output_type": "stream",
     "text": [
      "['Marketing', 'HR', 'Finance', 'Sales', 'Engineering']\n"
     ]
    }
   ],
   "source": [
    "print(list_dept)"
   ]
  },
  {
   "cell_type": "code",
   "execution_count": 20,
   "id": "0cda7749",
   "metadata": {},
   "outputs": [
    {
     "name": "stdout",
     "output_type": "stream",
     "text": [
      "[99817.0948275862, 99133.09836065574, 95251.26618705037, 100416.0, 93146.66666666667]\n"
     ]
    }
   ],
   "source": [
    "Mean_Salary_List = []\n",
    "i = 0\n",
    "for dept in list_dept:\n",
    "    mean_salary = df_employee[df_employee['Department'] == dept]['Salary'].mean()\n",
    "    Mean_Salary_List.append(mean_salary)\n",
    "    i += 1\n",
    "else:\n",
    "    print(Mean_Salary_List)\n",
    "\n",
    "\n"
   ]
  },
  {
   "cell_type": "code",
   "execution_count": 21,
   "id": "6969718e",
   "metadata": {},
   "outputs": [
    {
     "name": "stdout",
     "output_type": "stream",
     "text": [
      "3\n"
     ]
    }
   ],
   "source": [
    "# index_of_highest_value = values.index(max(values))\n",
    "index_of_highest_value = Mean_Salary_List.index(max(Mean_Salary_List))\n",
    "print(index_of_highest_value)"
   ]
  },
  {
   "cell_type": "code",
   "execution_count": 22,
   "id": "76879109",
   "metadata": {},
   "outputs": [
    {
     "name": "stdout",
     "output_type": "stream",
     "text": [
      "Sales Department has the \n",
      "highest average salary\n"
     ]
    }
   ],
   "source": [
    "print(f'{list_dept[index_of_highest_value]} Department has the \\nhighest average salary')"
   ]
  },
  {
   "cell_type": "markdown",
   "id": "1c6a314b",
   "metadata": {},
   "source": [
    "# 6. The total Salary expenditure for the company"
   ]
  },
  {
   "cell_type": "code",
   "execution_count": 23,
   "id": "7fc57a61",
   "metadata": {},
   "outputs": [],
   "source": [
    "total_salary_expenditure = df_employee['Salary'].sum()"
   ]
  },
  {
   "cell_type": "code",
   "execution_count": 24,
   "id": "ec29844b",
   "metadata": {},
   "outputs": [
    {
     "name": "stdout",
     "output_type": "stream",
     "text": [
      "58542435\n"
     ]
    }
   ],
   "source": [
    "print(total_salary_expenditure)"
   ]
  },
  {
   "cell_type": "markdown",
   "id": "acf1b672",
   "metadata": {},
   "source": [
    "# 7. Employees in each Department"
   ]
  },
  {
   "cell_type": "code",
   "execution_count": 25,
   "id": "ab29af3a",
   "metadata": {},
   "outputs": [
    {
     "name": "stdout",
     "output_type": "stream",
     "text": [
      "[116, 122, 139, 118, 105]\n"
     ]
    }
   ],
   "source": [
    "numb_per_dept_list = []\n",
    "for dept in list_dept:\n",
    "    count_per_dept = df_employee[df_employee['Department'] == dept]['Full_Name'].count()\n",
    "    numb_per_dept_list.append(count_per_dept)\n",
    "    print(numb_per_dept_list)\n"
   ]
  },
  {
   "cell_type": "code",
   "execution_count": 26,
   "id": "62744403",
   "metadata": {},
   "outputs": [
    {
     "name": "stdout",
     "output_type": "stream",
     "text": [
      "Marketing has 116 employees\n",
      "HR has 122 employees\n",
      "Finance has 139 employees\n",
      "Sales has 118 employees\n",
      "Engineering has 105 employees\n"
     ]
    }
   ],
   "source": [
    "for dept in list_dept:\n",
    "    count_per_dept = df_employee[df_employee['Department'] == dept]['Full_Name'].count()\n",
    "    print(f\"{dept} has {count_per_dept} employees\")\n"
   ]
  },
  {
   "cell_type": "markdown",
   "id": "b6df2acd",
   "metadata": {},
   "source": [
    "# 8. No age column so the age request is invalid"
   ]
  },
  {
   "cell_type": "markdown",
   "id": "7afaf1ee",
   "metadata": {},
   "source": [
    "# 9. Average Salary per gender"
   ]
  },
  {
   "cell_type": "code",
   "execution_count": 27,
   "id": "ca03946b",
   "metadata": {},
   "outputs": [
    {
     "name": "stdout",
     "output_type": "stream",
     "text": [
      "The average salary for Male gender is 97389.4505119454\n",
      "The average salary for Female gender is 97743.7328990228\n"
     ]
    }
   ],
   "source": [
    "list_gender = ['Male','Female']\n",
    "for gend in list_gender:\n",
    "    Average_Salary_per_gender = df_employee[df_employee['Gender'] == gend]['Salary'].mean()\n",
    "    print(f\"The average salary for {gend} gender is {Average_Salary_per_gender}\")"
   ]
  },
  {
   "cell_type": "markdown",
   "id": "13f295db",
   "metadata": {},
   "source": [
    "# 10. No age column so the age request is invalid"
   ]
  },
  {
   "cell_type": "markdown",
   "id": "0c891e13",
   "metadata": {},
   "source": [
    "# Part 2"
   ]
  },
  {
   "cell_type": "code",
   "execution_count": 28,
   "id": "1b6bf3dd",
   "metadata": {},
   "outputs": [],
   "source": [
    "df_employee['employee_bonus'] = df_employee['Salary']*0.1"
   ]
  },
  {
   "cell_type": "code",
   "execution_count": 29,
   "id": "1d0a2f8a",
   "metadata": {},
   "outputs": [
    {
     "data": {
      "text/html": [
       "<div>\n",
       "<style scoped>\n",
       "    .dataframe tbody tr th:only-of-type {\n",
       "        vertical-align: middle;\n",
       "    }\n",
       "\n",
       "    .dataframe tbody tr th {\n",
       "        vertical-align: top;\n",
       "    }\n",
       "\n",
       "    .dataframe thead th {\n",
       "        text-align: right;\n",
       "    }\n",
       "</style>\n",
       "<table border=\"1\" class=\"dataframe\">\n",
       "  <thead>\n",
       "    <tr style=\"text-align: right;\">\n",
       "      <th></th>\n",
       "      <th>First Name</th>\n",
       "      <th>Surname</th>\n",
       "      <th>Department</th>\n",
       "      <th>Gender</th>\n",
       "      <th>Salary</th>\n",
       "      <th>Full_Name</th>\n",
       "      <th>employee_bonus</th>\n",
       "    </tr>\n",
       "  </thead>\n",
       "  <tbody>\n",
       "    <tr>\n",
       "      <th>0</th>\n",
       "      <td>Isabella</td>\n",
       "      <td>Garcia</td>\n",
       "      <td>Marketing</td>\n",
       "      <td>Female</td>\n",
       "      <td>108268</td>\n",
       "      <td>Isabella Garcia</td>\n",
       "      <td>10826.8</td>\n",
       "    </tr>\n",
       "    <tr>\n",
       "      <th>1</th>\n",
       "      <td>David</td>\n",
       "      <td>Garcia</td>\n",
       "      <td>Marketing</td>\n",
       "      <td>Male</td>\n",
       "      <td>83567</td>\n",
       "      <td>David Garcia</td>\n",
       "      <td>8356.7</td>\n",
       "    </tr>\n",
       "    <tr>\n",
       "      <th>2</th>\n",
       "      <td>Isabella</td>\n",
       "      <td>Smith</td>\n",
       "      <td>Marketing</td>\n",
       "      <td>Female</td>\n",
       "      <td>82613</td>\n",
       "      <td>Isabella Smith</td>\n",
       "      <td>8261.3</td>\n",
       "    </tr>\n",
       "    <tr>\n",
       "      <th>3</th>\n",
       "      <td>Jane</td>\n",
       "      <td>Jones</td>\n",
       "      <td>HR</td>\n",
       "      <td>Female</td>\n",
       "      <td>85891</td>\n",
       "      <td>Jane Jones</td>\n",
       "      <td>8589.1</td>\n",
       "    </tr>\n",
       "    <tr>\n",
       "      <th>4</th>\n",
       "      <td>Emma</td>\n",
       "      <td>Wilson</td>\n",
       "      <td>Finance</td>\n",
       "      <td>Female</td>\n",
       "      <td>61243</td>\n",
       "      <td>Emma Wilson</td>\n",
       "      <td>6124.3</td>\n",
       "    </tr>\n",
       "  </tbody>\n",
       "</table>\n",
       "</div>"
      ],
      "text/plain": [
       "  First Name Surname Department  Gender  Salary        Full_Name   \n",
       "0   Isabella  Garcia  Marketing  Female  108268  Isabella Garcia  \\\n",
       "1      David  Garcia  Marketing    Male   83567     David Garcia   \n",
       "2   Isabella   Smith  Marketing  Female   82613   Isabella Smith   \n",
       "3       Jane   Jones         HR  Female   85891       Jane Jones   \n",
       "4       Emma  Wilson    Finance  Female   61243      Emma Wilson   \n",
       "\n",
       "   employee_bonus  \n",
       "0         10826.8  \n",
       "1          8356.7  \n",
       "2          8261.3  \n",
       "3          8589.1  \n",
       "4          6124.3  "
      ]
     },
     "execution_count": 29,
     "metadata": {},
     "output_type": "execute_result"
    }
   ],
   "source": [
    "df_employee.head()"
   ]
  },
  {
   "cell_type": "markdown",
   "id": "bab240aa",
   "metadata": {},
   "source": [
    "# 12. Total compensation column creation"
   ]
  },
  {
   "cell_type": "code",
   "execution_count": 30,
   "id": "e27bed55",
   "metadata": {},
   "outputs": [
    {
     "data": {
      "text/html": [
       "<div>\n",
       "<style scoped>\n",
       "    .dataframe tbody tr th:only-of-type {\n",
       "        vertical-align: middle;\n",
       "    }\n",
       "\n",
       "    .dataframe tbody tr th {\n",
       "        vertical-align: top;\n",
       "    }\n",
       "\n",
       "    .dataframe thead th {\n",
       "        text-align: right;\n",
       "    }\n",
       "</style>\n",
       "<table border=\"1\" class=\"dataframe\">\n",
       "  <thead>\n",
       "    <tr style=\"text-align: right;\">\n",
       "      <th></th>\n",
       "      <th>First Name</th>\n",
       "      <th>Surname</th>\n",
       "      <th>Department</th>\n",
       "      <th>Gender</th>\n",
       "      <th>Salary</th>\n",
       "      <th>Full_Name</th>\n",
       "      <th>employee_bonus</th>\n",
       "      <th>Total Compensation</th>\n",
       "    </tr>\n",
       "  </thead>\n",
       "  <tbody>\n",
       "    <tr>\n",
       "      <th>0</th>\n",
       "      <td>Isabella</td>\n",
       "      <td>Garcia</td>\n",
       "      <td>Marketing</td>\n",
       "      <td>Female</td>\n",
       "      <td>108268</td>\n",
       "      <td>Isabella Garcia</td>\n",
       "      <td>10826.8</td>\n",
       "      <td>119094.8</td>\n",
       "    </tr>\n",
       "    <tr>\n",
       "      <th>1</th>\n",
       "      <td>David</td>\n",
       "      <td>Garcia</td>\n",
       "      <td>Marketing</td>\n",
       "      <td>Male</td>\n",
       "      <td>83567</td>\n",
       "      <td>David Garcia</td>\n",
       "      <td>8356.7</td>\n",
       "      <td>91923.7</td>\n",
       "    </tr>\n",
       "    <tr>\n",
       "      <th>2</th>\n",
       "      <td>Isabella</td>\n",
       "      <td>Smith</td>\n",
       "      <td>Marketing</td>\n",
       "      <td>Female</td>\n",
       "      <td>82613</td>\n",
       "      <td>Isabella Smith</td>\n",
       "      <td>8261.3</td>\n",
       "      <td>90874.3</td>\n",
       "    </tr>\n",
       "    <tr>\n",
       "      <th>3</th>\n",
       "      <td>Jane</td>\n",
       "      <td>Jones</td>\n",
       "      <td>HR</td>\n",
       "      <td>Female</td>\n",
       "      <td>85891</td>\n",
       "      <td>Jane Jones</td>\n",
       "      <td>8589.1</td>\n",
       "      <td>94480.1</td>\n",
       "    </tr>\n",
       "    <tr>\n",
       "      <th>4</th>\n",
       "      <td>Emma</td>\n",
       "      <td>Wilson</td>\n",
       "      <td>Finance</td>\n",
       "      <td>Female</td>\n",
       "      <td>61243</td>\n",
       "      <td>Emma Wilson</td>\n",
       "      <td>6124.3</td>\n",
       "      <td>67367.3</td>\n",
       "    </tr>\n",
       "  </tbody>\n",
       "</table>\n",
       "</div>"
      ],
      "text/plain": [
       "  First Name Surname Department  Gender  Salary        Full_Name   \n",
       "0   Isabella  Garcia  Marketing  Female  108268  Isabella Garcia  \\\n",
       "1      David  Garcia  Marketing    Male   83567     David Garcia   \n",
       "2   Isabella   Smith  Marketing  Female   82613   Isabella Smith   \n",
       "3       Jane   Jones         HR  Female   85891       Jane Jones   \n",
       "4       Emma  Wilson    Finance  Female   61243      Emma Wilson   \n",
       "\n",
       "   employee_bonus  Total Compensation  \n",
       "0         10826.8            119094.8  \n",
       "1          8356.7             91923.7  \n",
       "2          8261.3             90874.3  \n",
       "3          8589.1             94480.1  \n",
       "4          6124.3             67367.3  "
      ]
     },
     "execution_count": 30,
     "metadata": {},
     "output_type": "execute_result"
    }
   ],
   "source": [
    "df_employee['Total Compensation'] = df_employee['Salary'] * 1.1\n",
    "df_employee.head()"
   ]
  },
  {
   "cell_type": "code",
   "execution_count": 31,
   "id": "c47987bb",
   "metadata": {},
   "outputs": [
    {
     "name": "stdout",
     "output_type": "stream",
     "text": [
      "    First Name   Surname         Full_Name   Department  Gender  Salary   \n",
      "0     Isabella    Garcia   Isabella Garcia    Marketing  Female  108268  \\\n",
      "1        David    Garcia      David Garcia    Marketing    Male   83567   \n",
      "2     Isabella     Smith    Isabella Smith    Marketing  Female   82613   \n",
      "3         Jane     Jones        Jane Jones           HR  Female   85891   \n",
      "4         Emma    Wilson       Emma Wilson      Finance  Female   61243   \n",
      "..         ...       ...               ...          ...     ...     ...   \n",
      "595    Matthew     Brown     Matthew Brown    Marketing    Male   77292   \n",
      "596    Michael  Williams  Michael Williams  Engineering    Male  139131   \n",
      "597       Jane     Smith        Jane Smith  Engineering  Female  115577   \n",
      "598       John     Brown        John Brown    Marketing    Male   95986   \n",
      "599    Matthew  Williams  Matthew Williams    Marketing    Male   50413   \n",
      "\n",
      "     employee_bonus  Total Compensation  \n",
      "0           10826.8            119094.8  \n",
      "1            8356.7             91923.7  \n",
      "2            8261.3             90874.3  \n",
      "3            8589.1             94480.1  \n",
      "4            6124.3             67367.3  \n",
      "..              ...                 ...  \n",
      "595          7729.2             85021.2  \n",
      "596         13913.1            153044.1  \n",
      "597         11557.7            127134.7  \n",
      "598          9598.6            105584.6  \n",
      "599          5041.3             55454.3  \n",
      "\n",
      "[600 rows x 8 columns]\n"
     ]
    },
    {
     "data": {
      "text/html": [
       "<div>\n",
       "<style scoped>\n",
       "    .dataframe tbody tr th:only-of-type {\n",
       "        vertical-align: middle;\n",
       "    }\n",
       "\n",
       "    .dataframe tbody tr th {\n",
       "        vertical-align: top;\n",
       "    }\n",
       "\n",
       "    .dataframe thead th {\n",
       "        text-align: right;\n",
       "    }\n",
       "</style>\n",
       "<table border=\"1\" class=\"dataframe\">\n",
       "  <thead>\n",
       "    <tr style=\"text-align: right;\">\n",
       "      <th></th>\n",
       "      <th>First Name</th>\n",
       "      <th>Surname</th>\n",
       "      <th>Full_Name</th>\n",
       "      <th>Department</th>\n",
       "      <th>Gender</th>\n",
       "      <th>Salary</th>\n",
       "      <th>employee_bonus</th>\n",
       "      <th>Total Compensation</th>\n",
       "    </tr>\n",
       "  </thead>\n",
       "  <tbody>\n",
       "    <tr>\n",
       "      <th>0</th>\n",
       "      <td>Isabella</td>\n",
       "      <td>Garcia</td>\n",
       "      <td>Isabella Garcia</td>\n",
       "      <td>Marketing</td>\n",
       "      <td>Female</td>\n",
       "      <td>108268</td>\n",
       "      <td>10826.8</td>\n",
       "      <td>119094.8</td>\n",
       "    </tr>\n",
       "    <tr>\n",
       "      <th>1</th>\n",
       "      <td>David</td>\n",
       "      <td>Garcia</td>\n",
       "      <td>David Garcia</td>\n",
       "      <td>Marketing</td>\n",
       "      <td>Male</td>\n",
       "      <td>83567</td>\n",
       "      <td>8356.7</td>\n",
       "      <td>91923.7</td>\n",
       "    </tr>\n",
       "    <tr>\n",
       "      <th>2</th>\n",
       "      <td>Isabella</td>\n",
       "      <td>Smith</td>\n",
       "      <td>Isabella Smith</td>\n",
       "      <td>Marketing</td>\n",
       "      <td>Female</td>\n",
       "      <td>82613</td>\n",
       "      <td>8261.3</td>\n",
       "      <td>90874.3</td>\n",
       "    </tr>\n",
       "    <tr>\n",
       "      <th>3</th>\n",
       "      <td>Jane</td>\n",
       "      <td>Jones</td>\n",
       "      <td>Jane Jones</td>\n",
       "      <td>HR</td>\n",
       "      <td>Female</td>\n",
       "      <td>85891</td>\n",
       "      <td>8589.1</td>\n",
       "      <td>94480.1</td>\n",
       "    </tr>\n",
       "    <tr>\n",
       "      <th>4</th>\n",
       "      <td>Emma</td>\n",
       "      <td>Wilson</td>\n",
       "      <td>Emma Wilson</td>\n",
       "      <td>Finance</td>\n",
       "      <td>Female</td>\n",
       "      <td>61243</td>\n",
       "      <td>6124.3</td>\n",
       "      <td>67367.3</td>\n",
       "    </tr>\n",
       "  </tbody>\n",
       "</table>\n",
       "</div>"
      ],
      "text/plain": [
       "  First Name Surname        Full_Name Department  Gender  Salary   \n",
       "0   Isabella  Garcia  Isabella Garcia  Marketing  Female  108268  \\\n",
       "1      David  Garcia     David Garcia  Marketing    Male   83567   \n",
       "2   Isabella   Smith   Isabella Smith  Marketing  Female   82613   \n",
       "3       Jane   Jones       Jane Jones         HR  Female   85891   \n",
       "4       Emma  Wilson      Emma Wilson    Finance  Female   61243   \n",
       "\n",
       "   employee_bonus  Total Compensation  \n",
       "0         10826.8            119094.8  \n",
       "1          8356.7             91923.7  \n",
       "2          8261.3             90874.3  \n",
       "3          8589.1             94480.1  \n",
       "4          6124.3             67367.3  "
      ]
     },
     "execution_count": 31,
     "metadata": {},
     "output_type": "execute_result"
    }
   ],
   "source": [
    "# Reorder the columns\n",
    "df_employee = df_employee[['First Name', 'Surname', 'Full_Name', \n",
    "                           'Department', 'Gender', 'Salary', 'employee_bonus', 'Total Compensation']]\n",
    "\n",
    "# Print the reordered DataFrame\n",
    "print(df_employee)\n",
    "df_employee.head()\n"
   ]
  },
  {
   "cell_type": "markdown",
   "id": "183c0124",
   "metadata": {},
   "source": [
    "# 13. Create new file new_employee_data.csv"
   ]
  },
  {
   "cell_type": "code",
   "execution_count": 32,
   "id": "14063187",
   "metadata": {},
   "outputs": [],
   "source": [
    "# Write the data to a new file\n",
    "df_employee.to_csv(\"new_employee_data.csv\", index=False)"
   ]
  }
 ],
 "metadata": {
  "kernelspec": {
   "display_name": "Python 3 (ipykernel)",
   "language": "python",
   "name": "python3"
  },
  "language_info": {
   "codemirror_mode": {
    "name": "ipython",
    "version": 3
   },
   "file_extension": ".py",
   "mimetype": "text/x-python",
   "name": "python",
   "nbconvert_exporter": "python",
   "pygments_lexer": "ipython3",
   "version": "3.11.3"
  }
 },
 "nbformat": 4,
 "nbformat_minor": 5
}
